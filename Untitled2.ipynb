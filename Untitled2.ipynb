{
  "nbformat": 4,
  "nbformat_minor": 0,
  "metadata": {
    "colab": {
      "provenance": [],
      "authorship_tag": "ABX9TyMfsUpg8Y1CK2kziPMBuWUa",
      "include_colab_link": true
    },
    "kernelspec": {
      "name": "python3",
      "display_name": "Python 3"
    },
    "language_info": {
      "name": "python"
    }
  },
  "cells": [
    {
      "cell_type": "markdown",
      "metadata": {
        "id": "view-in-github",
        "colab_type": "text"
      },
      "source": [
        "<a href=\"https://colab.research.google.com/github/geun-hyoung/Natural_Language_Study/blob/main/Untitled2.ipynb\" target=\"_parent\"><img src=\"https://colab.research.google.com/assets/colab-badge.svg\" alt=\"Open In Colab\"/></a>"
      ]
    },
    {
      "cell_type": "code",
      "execution_count": 2,
      "metadata": {
        "colab": {
          "base_uri": "https://localhost:8080/"
        },
        "id": "h3nRc8bvejyy",
        "outputId": "acda502a-36eb-4072-fa59-86e84266ec45"
      },
      "outputs": [
        {
          "output_type": "stream",
          "name": "stdout",
          "text": [
            "Cloning into 'stargan-v2'...\n",
            "remote: Enumerating objects: 269, done.\u001b[K\n",
            "remote: Total 269 (delta 0), reused 0 (delta 0), pack-reused 269\u001b[K\n",
            "Receiving objects: 100% (269/269), 38.86 MiB | 34.45 MiB/s, done.\n",
            "Resolving deltas: 100% (60/60), done.\n"
          ]
        }
      ],
      "source": [
        "!git clone https://github.com/clovaai/stargan-v2.git"
      ]
    },
    {
      "cell_type": "code",
      "source": [
        "cd stargan-v2/"
      ],
      "metadata": {
        "colab": {
          "base_uri": "https://localhost:8080/"
        },
        "id": "7ttOY517e3A9",
        "outputId": "2ff18a9e-a7be-4de5-dff2-1fb4a3d962b9"
      },
      "execution_count": 16,
      "outputs": [
        {
          "output_type": "stream",
          "name": "stdout",
          "text": [
            "/content/stargan-v2\n"
          ]
        }
      ]
    },
    {
      "cell_type": "code",
      "source": [
        "pip install opencv-python==4.1.2.30 ffmpeg-python==0.2.0 scikit-image==0.16.2"
      ],
      "metadata": {
        "colab": {
          "base_uri": "https://localhost:8080/",
          "height": 1000
        },
        "id": "Aa61LKUue2-v",
        "outputId": "6b2aadfc-840e-4f3b-9a4a-26d5026e8377"
      },
      "execution_count": 9,
      "outputs": [
        {
          "output_type": "stream",
          "name": "stdout",
          "text": [
            "Looking in indexes: https://pypi.org/simple, https://us-python.pkg.dev/colab-wheels/public/simple/\n",
            "Collecting opencv-python==4.1.2.30\n",
            "  Using cached opencv_python-4.1.2.30-cp37-cp37m-manylinux1_x86_64.whl (28.3 MB)\n",
            "Collecting ffmpeg-python==0.2.0\n",
            "  Using cached ffmpeg_python-0.2.0-py3-none-any.whl (25 kB)\n",
            "Collecting scikit-image==0.16.2\n",
            "  Using cached scikit_image-0.16.2-cp37-cp37m-manylinux1_x86_64.whl (26.5 MB)\n",
            "Requirement already satisfied: numpy>=1.14.5 in /usr/local/lib/python3.7/site-packages (from opencv-python==4.1.2.30) (1.21.6)\n",
            "Collecting future\n",
            "  Downloading future-0.18.2.tar.gz (829 kB)\n",
            "\u001b[2K     \u001b[90m━━━━━━━━━━━━━━━━━━━━━━━━━━━━━━━━━━━━━━\u001b[0m \u001b[32m829.2/829.2 kB\u001b[0m \u001b[31m12.4 MB/s\u001b[0m eta \u001b[36m0:00:00\u001b[0m\n",
            "\u001b[?25h  Preparing metadata (setup.py) ... \u001b[?25l\u001b[?25hdone\n",
            "Collecting PyWavelets>=0.4.0\n",
            "  Downloading PyWavelets-1.3.0-cp37-cp37m-manylinux_2_5_x86_64.manylinux1_x86_64.manylinux_2_12_x86_64.manylinux2010_x86_64.whl (6.4 MB)\n",
            "\u001b[2K     \u001b[90m━━━━━━━━━━━━━━━━━━━━━━━━━━━━━━━━━━━━━━━━\u001b[0m \u001b[32m6.4/6.4 MB\u001b[0m \u001b[31m75.2 MB/s\u001b[0m eta \u001b[36m0:00:00\u001b[0m\n",
            "\u001b[?25hRequirement already satisfied: pillow>=4.3.0 in /usr/local/lib/python3.7/site-packages (from scikit-image==0.16.2) (9.2.0)\n",
            "Collecting networkx>=2.0\n",
            "  Downloading networkx-2.6.3-py3-none-any.whl (1.9 MB)\n",
            "\u001b[2K     \u001b[90m━━━━━━━━━━━━━━━━━━━━━━━━━━━━━━━━━━━━━━━━\u001b[0m \u001b[32m1.9/1.9 MB\u001b[0m \u001b[31m8.3 MB/s\u001b[0m eta \u001b[36m0:00:00\u001b[0m\n",
            "\u001b[?25hCollecting matplotlib!=3.0.0,>=2.0.0\n",
            "  Downloading matplotlib-3.5.3-cp37-cp37m-manylinux_2_5_x86_64.manylinux1_x86_64.whl (11.2 MB)\n",
            "\u001b[2K     \u001b[90m━━━━━━━━━━━━━━━━━━━━━━━━━━━━━━━━━━━━━━━━\u001b[0m \u001b[32m11.2/11.2 MB\u001b[0m \u001b[31m68.2 MB/s\u001b[0m eta \u001b[36m0:00:00\u001b[0m\n",
            "\u001b[?25hCollecting imageio>=2.3.0\n",
            "  Downloading imageio-2.22.4-py3-none-any.whl (3.4 MB)\n",
            "\u001b[2K     \u001b[90m━━━━━━━━━━━━━━━━━━━━━━━━━━━━━━━━━━━━━━━━\u001b[0m \u001b[32m3.4/3.4 MB\u001b[0m \u001b[31m69.6 MB/s\u001b[0m eta \u001b[36m0:00:00\u001b[0m\n",
            "\u001b[?25hCollecting scipy>=0.19.0\n",
            "  Downloading scipy-1.7.3-cp37-cp37m-manylinux_2_12_x86_64.manylinux2010_x86_64.whl (38.1 MB)\n",
            "\u001b[2K     \u001b[90m━━━━━━━━━━━━━━━━━━━━━━━━━━━━━━━━━━━━━━━━\u001b[0m \u001b[32m38.1/38.1 MB\u001b[0m \u001b[31m17.4 MB/s\u001b[0m eta \u001b[36m0:00:00\u001b[0m\n",
            "\u001b[?25hCollecting python-dateutil>=2.7\n",
            "  Downloading python_dateutil-2.8.2-py2.py3-none-any.whl (247 kB)\n",
            "\u001b[2K     \u001b[90m━━━━━━━━━━━━━━━━━━━━━━━━━━━━━━━━━━━━━━\u001b[0m \u001b[32m247.7/247.7 kB\u001b[0m \u001b[31m20.4 MB/s\u001b[0m eta \u001b[36m0:00:00\u001b[0m\n",
            "\u001b[?25hCollecting fonttools>=4.22.0\n",
            "  Downloading fonttools-4.38.0-py3-none-any.whl (965 kB)\n",
            "\u001b[2K     \u001b[90m━━━━━━━━━━━━━━━━━━━━━━━━━━━━━━━━━━━━━━\u001b[0m \u001b[32m965.4/965.4 kB\u001b[0m \u001b[31m43.4 MB/s\u001b[0m eta \u001b[36m0:00:00\u001b[0m\n",
            "\u001b[?25hCollecting pyparsing>=2.2.1\n",
            "  Downloading pyparsing-3.0.9-py3-none-any.whl (98 kB)\n",
            "\u001b[2K     \u001b[90m━━━━━━━━━━━━━━━━━━━━━━━━━━━━━━━━━━━━━━━━\u001b[0m \u001b[32m98.3/98.3 kB\u001b[0m \u001b[31m9.6 MB/s\u001b[0m eta \u001b[36m0:00:00\u001b[0m\n",
            "\u001b[?25hCollecting packaging>=20.0\n",
            "  Downloading packaging-21.3-py3-none-any.whl (40 kB)\n",
            "\u001b[2K     \u001b[90m━━━━━━━━━━━━━━━━━━━━━━━━━━━━━━━━━━━━━━━━\u001b[0m \u001b[32m40.8/40.8 kB\u001b[0m \u001b[31m4.4 MB/s\u001b[0m eta \u001b[36m0:00:00\u001b[0m\n",
            "\u001b[?25hCollecting cycler>=0.10\n",
            "  Downloading cycler-0.11.0-py3-none-any.whl (6.4 kB)\n",
            "Collecting kiwisolver>=1.0.1\n",
            "  Downloading kiwisolver-1.4.4-cp37-cp37m-manylinux_2_5_x86_64.manylinux1_x86_64.whl (1.1 MB)\n",
            "\u001b[2K     \u001b[90m━━━━━━━━━━━━━━━━━━━━━━━━━━━━━━━━━━━━━━━━\u001b[0m \u001b[32m1.1/1.1 MB\u001b[0m \u001b[31m51.8 MB/s\u001b[0m eta \u001b[36m0:00:00\u001b[0m\n",
            "\u001b[?25hCollecting typing-extensions\n",
            "  Downloading typing_extensions-4.4.0-py3-none-any.whl (26 kB)\n",
            "Requirement already satisfied: six>=1.5 in /usr/local/lib/python3.7/site-packages (from python-dateutil>=2.7->matplotlib!=3.0.0,>=2.0.0->scikit-image==0.16.2) (1.16.0)\n",
            "Building wheels for collected packages: future\n",
            "  Building wheel for future (setup.py) ... \u001b[?25l\u001b[?25hdone\n",
            "  Created wheel for future: filename=future-0.18.2-py3-none-any.whl size=491058 sha256=d3946d3d20bb5fb640d34f93d649a07cde0dc836de8554a597bf912a95c733d7\n",
            "  Stored in directory: /root/.cache/pip/wheels/56/b0/fe/4410d17b32f1f0c3cf54cdfb2bc04d7b4b8f4ae377e2229ba0\n",
            "Successfully built future\n",
            "Installing collected packages: typing-extensions, scipy, PyWavelets, python-dateutil, pyparsing, opencv-python, networkx, imageio, future, fonttools, cycler, packaging, kiwisolver, ffmpeg-python, matplotlib, scikit-image\n",
            "Successfully installed PyWavelets-1.3.0 cycler-0.11.0 ffmpeg-python-0.2.0 fonttools-4.38.0 future-0.18.2 imageio-2.22.4 kiwisolver-1.4.4 matplotlib-3.5.3 networkx-2.6.3 opencv-python-4.1.2.30 packaging-21.3 pyparsing-3.0.9 python-dateutil-2.8.2 scikit-image-0.16.2 scipy-1.7.3 typing-extensions-4.4.0\n",
            "\u001b[33mWARNING: Running pip as the 'root' user can result in broken permissions and conflicting behaviour with the system package manager. It is recommended to use a virtual environment instead: https://pip.pypa.io/warnings/venv\u001b[0m\u001b[33m\n",
            "\u001b[0m"
          ]
        },
        {
          "output_type": "display_data",
          "data": {
            "application/vnd.colab-display-data+json": {
              "pip_warning": {
                "packages": [
                  "cycler",
                  "dateutil",
                  "kiwisolver"
                ]
              }
            }
          },
          "metadata": {}
        }
      ]
    },
    {
      "cell_type": "code",
      "source": [
        "pip install pillow==7.0.0 scipy==1.2.1 tqdm==4.43.0 munch==2.5.0\n"
      ],
      "metadata": {
        "colab": {
          "base_uri": "https://localhost:8080/"
        },
        "id": "6_X-rQbqe270",
        "outputId": "4a44d48f-f207-434b-e94a-41cf6794a923"
      },
      "execution_count": 10,
      "outputs": [
        {
          "output_type": "stream",
          "name": "stdout",
          "text": [
            "Looking in indexes: https://pypi.org/simple, https://us-python.pkg.dev/colab-wheels/public/simple/\n",
            "Collecting pillow==7.0.0\n",
            "  Using cached Pillow-7.0.0-cp37-cp37m-manylinux1_x86_64.whl (2.1 MB)\n",
            "Collecting scipy==1.2.1\n",
            "  Using cached scipy-1.2.1-cp37-cp37m-manylinux1_x86_64.whl (24.8 MB)\n",
            "Collecting tqdm==4.43.0\n",
            "  Using cached tqdm-4.43.0-py2.py3-none-any.whl (59 kB)\n",
            "Collecting munch==2.5.0\n",
            "  Using cached munch-2.5.0-py2.py3-none-any.whl (10 kB)\n",
            "Requirement already satisfied: numpy>=1.8.2 in /usr/local/lib/python3.7/site-packages (from scipy==1.2.1) (1.21.6)\n",
            "Requirement already satisfied: six in /usr/local/lib/python3.7/site-packages (from munch==2.5.0) (1.16.0)\n",
            "Installing collected packages: tqdm, scipy, pillow, munch\n",
            "  Attempting uninstall: tqdm\n",
            "    Found existing installation: tqdm 4.64.0\n",
            "    Uninstalling tqdm-4.64.0:\n",
            "      Successfully uninstalled tqdm-4.64.0\n",
            "  Attempting uninstall: scipy\n",
            "    Found existing installation: scipy 1.7.3\n",
            "    Uninstalling scipy-1.7.3:\n",
            "      Successfully uninstalled scipy-1.7.3\n",
            "  Attempting uninstall: pillow\n",
            "    Found existing installation: Pillow 9.2.0\n",
            "    Uninstalling Pillow-9.2.0:\n",
            "      Successfully uninstalled Pillow-9.2.0\n",
            "\u001b[31mERROR: pip's dependency resolver does not currently take into account all the packages that are installed. This behaviour is the source of the following dependency conflicts.\n",
            "imageio 2.22.4 requires pillow>=8.3.2, but you have pillow 7.0.0 which is incompatible.\u001b[0m\u001b[31m\n",
            "\u001b[0mSuccessfully installed munch-2.5.0 pillow-7.0.0 scipy-1.2.1 tqdm-4.43.0\n",
            "\u001b[33mWARNING: Running pip as the 'root' user can result in broken permissions and conflicting behaviour with the system package manager. It is recommended to use a virtual environment instead: https://pip.pypa.io/warnings/venv\u001b[0m\u001b[33m\n",
            "\u001b[0m"
          ]
        }
      ]
    },
    {
      "cell_type": "code",
      "source": [
        "!pip install kora\n",
        "from kora import console\n",
        "console.start()"
      ],
      "metadata": {
        "colab": {
          "base_uri": "https://localhost:8080/",
          "height": 974
        },
        "id": "48xCw8vxfB9A",
        "outputId": "176c1dc3-ccfc-4a94-a4cd-8cc98943a9ff"
      },
      "execution_count": 11,
      "outputs": [
        {
          "output_type": "stream",
          "name": "stdout",
          "text": [
            "Looking in indexes: https://pypi.org/simple, https://us-python.pkg.dev/colab-wheels/public/simple/\n",
            "Collecting kora\n",
            "  Using cached kora-0.9.20-py3-none-any.whl (57 kB)\n",
            "Collecting fastcore\n",
            "  Downloading fastcore-1.5.27-py3-none-any.whl (67 kB)\n",
            "\u001b[2K     \u001b[90m━━━━━━━━━━━━━━━━━━━━━━━━━━━━━━━━━━━━━━━━\u001b[0m \u001b[32m67.1/67.1 kB\u001b[0m \u001b[31m3.0 MB/s\u001b[0m eta \u001b[36m0:00:00\u001b[0m\n",
            "\u001b[?25hCollecting ipython\n",
            "  Downloading ipython-7.34.0-py3-none-any.whl (793 kB)\n",
            "\u001b[2K     \u001b[90m━━━━━━━━━━━━━━━━━━━━━━━━━━━━━━━━━━━━━━\u001b[0m \u001b[32m793.8/793.8 kB\u001b[0m \u001b[31m18.9 MB/s\u001b[0m eta \u001b[36m0:00:00\u001b[0m\n",
            "\u001b[?25hRequirement already satisfied: pip in /usr/local/lib/python3.7/site-packages (from fastcore->kora) (22.2.2)\n",
            "Requirement already satisfied: packaging in /usr/local/lib/python3.7/site-packages (from fastcore->kora) (21.3)\n",
            "Collecting traitlets>=4.2\n",
            "  Downloading traitlets-5.5.0-py3-none-any.whl (107 kB)\n",
            "\u001b[2K     \u001b[90m━━━━━━━━━━━━━━━━━━━━━━━━━━━━━━━━━━━━━━\u001b[0m \u001b[32m107.4/107.4 kB\u001b[0m \u001b[31m10.8 MB/s\u001b[0m eta \u001b[36m0:00:00\u001b[0m\n",
            "\u001b[?25hCollecting pexpect>4.3\n",
            "  Downloading pexpect-4.8.0-py2.py3-none-any.whl (59 kB)\n",
            "\u001b[2K     \u001b[90m━━━━━━━━━━━━━━━━━━━━━━━━━━━━━━━━━━━━━━━━\u001b[0m \u001b[32m59.0/59.0 kB\u001b[0m \u001b[31m6.2 MB/s\u001b[0m eta \u001b[36m0:00:00\u001b[0m\n",
            "\u001b[?25hRequirement already satisfied: setuptools>=18.5 in /usr/local/lib/python3.7/site-packages (from ipython->kora) (65.3.0)\n",
            "Collecting decorator\n",
            "  Downloading decorator-5.1.1-py3-none-any.whl (9.1 kB)\n",
            "Collecting pygments\n",
            "  Downloading Pygments-2.13.0-py3-none-any.whl (1.1 MB)\n",
            "\u001b[2K     \u001b[90m━━━━━━━━━━━━━━━━━━━━━━━━━━━━━━━━━━━━━━━━\u001b[0m \u001b[32m1.1/1.1 MB\u001b[0m \u001b[31m40.4 MB/s\u001b[0m eta \u001b[36m0:00:00\u001b[0m\n",
            "\u001b[?25hCollecting matplotlib-inline\n",
            "  Downloading matplotlib_inline-0.1.6-py3-none-any.whl (9.4 kB)\n",
            "Collecting prompt-toolkit!=3.0.0,!=3.0.1,<3.1.0,>=2.0.0\n",
            "  Downloading prompt_toolkit-3.0.32-py3-none-any.whl (382 kB)\n",
            "\u001b[2K     \u001b[90m━━━━━━━━━━━━━━━━━━━━━━━━━━━━━━━━━━━━━━\u001b[0m \u001b[32m382.8/382.8 kB\u001b[0m \u001b[31m25.2 MB/s\u001b[0m eta \u001b[36m0:00:00\u001b[0m\n",
            "\u001b[?25hCollecting jedi>=0.16\n",
            "  Using cached jedi-0.18.1-py2.py3-none-any.whl (1.6 MB)\n",
            "Collecting backcall\n",
            "  Downloading backcall-0.2.0-py2.py3-none-any.whl (11 kB)\n",
            "Collecting pickleshare\n",
            "  Downloading pickleshare-0.7.5-py2.py3-none-any.whl (6.9 kB)\n",
            "Collecting parso<0.9.0,>=0.8.0\n",
            "  Downloading parso-0.8.3-py2.py3-none-any.whl (100 kB)\n",
            "\u001b[2K     \u001b[90m━━━━━━━━━━━━━━━━━━━━━━━━━━━━━━━━━━━━━━━\u001b[0m \u001b[32m100.8/100.8 kB\u001b[0m \u001b[31m7.4 MB/s\u001b[0m eta \u001b[36m0:00:00\u001b[0m\n",
            "\u001b[?25hCollecting ptyprocess>=0.5\n",
            "  Downloading ptyprocess-0.7.0-py2.py3-none-any.whl (13 kB)\n",
            "Collecting wcwidth\n",
            "  Downloading wcwidth-0.2.5-py2.py3-none-any.whl (30 kB)\n",
            "Requirement already satisfied: pyparsing!=3.0.5,>=2.0.2 in /usr/local/lib/python3.7/site-packages (from packaging->fastcore->kora) (3.0.9)\n",
            "Installing collected packages: wcwidth, ptyprocess, pickleshare, backcall, traitlets, pygments, prompt-toolkit, pexpect, parso, decorator, matplotlib-inline, jedi, fastcore, ipython, kora\n",
            "Successfully installed backcall-0.2.0 decorator-5.1.1 fastcore-1.5.27 ipython-7.34.0 jedi-0.18.1 kora-0.9.20 matplotlib-inline-0.1.6 parso-0.8.3 pexpect-4.8.0 pickleshare-0.7.5 prompt-toolkit-3.0.32 ptyprocess-0.7.0 pygments-2.13.0 traitlets-5.5.0 wcwidth-0.2.5\n",
            "\u001b[33mWARNING: Running pip as the 'root' user can result in broken permissions and conflicting behaviour with the system package manager. It is recommended to use a virtual environment instead: https://pip.pypa.io/warnings/venv\u001b[0m\u001b[33m\n",
            "\u001b[0m"
          ]
        },
        {
          "output_type": "display_data",
          "data": {
            "application/vnd.colab-display-data+json": {
              "pip_warning": {
                "packages": [
                  "jedi",
                  "parso",
                  "pexpect",
                  "pickleshare",
                  "wcwidth"
                ]
              }
            }
          },
          "metadata": {}
        },
        {
          "output_type": "stream",
          "name": "stdout",
          "text": [
            "\n"
          ]
        }
      ]
    },
    {
      "cell_type": "code",
      "source": [
        "!bash download.sh celeba-hq-dataset"
      ],
      "metadata": {
        "colab": {
          "base_uri": "https://localhost:8080/"
        },
        "id": "ZSdsujZEfB6c",
        "outputId": "d2ba6bdd-5b6f-4f5b-8301-b2e71abc8d82"
      },
      "execution_count": 17,
      "outputs": [
        {
          "output_type": "stream",
          "name": "stdout",
          "text": [
            "download.sh: line 9: \n",
            "StarGAN v2\n",
            "Copyright (c) 2020-present NAVER Corp.\n",
            "\n",
            "This work is licensed under the Creative Commons Attribution-NonCommercial\n",
            "4.0 International License. To view a copy of this license, visit\n",
            "http://creativecommons.org/licenses/by-nc/4.0/ or send a letter to\n",
            "Creative Commons, PO Box 1866, Mountain View, CA 94042, USA.\n",
            ": No such file or directory\n",
            "WARNING: timestamping does nothing in combination with -O. See the manual\n",
            "for details.\n",
            "\n",
            "--2022-11-16 13:19:39--  https://www.dropbox.com/s/f7pvjij2xlpff59/celeba_hq.zip?dl=0\n",
            "Resolving www.dropbox.com (www.dropbox.com)... 162.125.5.18, 2620:100:601d:18::a27d:512\n",
            "Connecting to www.dropbox.com (www.dropbox.com)|162.125.5.18|:443... connected.\n",
            "HTTP request sent, awaiting response... 302 Found\n",
            "Location: /s/raw/f7pvjij2xlpff59/celeba_hq.zip [following]\n",
            "--2022-11-16 13:19:39--  https://www.dropbox.com/s/raw/f7pvjij2xlpff59/celeba_hq.zip\n",
            "Reusing existing connection to www.dropbox.com:443.\n",
            "HTTP request sent, awaiting response... 302 Found\n",
            "Location: https://ucc62b2194c5a0d2096ebaffdabf.dl.dropboxusercontent.com/cd/0/inline/Bw3n4uDMW7A-v9mJPH9zU5z6eqT7OaQCw4wsM4oZxdcNyvGxzXgGgzk9ITBV5f0BIHJauu6oSDltKldpJ3uPYFfqdhV4EbJZ3VzVY1qrb1_Q8RFSc0bsJmMUTBJtaOnsZhtNIt88PngKyNPOthbcJ8zv1ysnIhXD8e_tOYLCeWhdkg/file# [following]\n",
            "--2022-11-16 13:19:40--  https://ucc62b2194c5a0d2096ebaffdabf.dl.dropboxusercontent.com/cd/0/inline/Bw3n4uDMW7A-v9mJPH9zU5z6eqT7OaQCw4wsM4oZxdcNyvGxzXgGgzk9ITBV5f0BIHJauu6oSDltKldpJ3uPYFfqdhV4EbJZ3VzVY1qrb1_Q8RFSc0bsJmMUTBJtaOnsZhtNIt88PngKyNPOthbcJ8zv1ysnIhXD8e_tOYLCeWhdkg/file\n",
            "Resolving ucc62b2194c5a0d2096ebaffdabf.dl.dropboxusercontent.com (ucc62b2194c5a0d2096ebaffdabf.dl.dropboxusercontent.com)... 162.125.5.15, 2620:100:601d:15::a27d:50f\n",
            "Connecting to ucc62b2194c5a0d2096ebaffdabf.dl.dropboxusercontent.com (ucc62b2194c5a0d2096ebaffdabf.dl.dropboxusercontent.com)|162.125.5.15|:443... connected.\n",
            "HTTP request sent, awaiting response... 302 Found\n",
            "Location: /cd/0/inline2/Bw3vlHosuXRqk22YvTBCtC6NmBez3SvkSyDp_jP6nJosgAdMw4t7IR727MRszNbsMbKcpjrrlQaOXL9Wu7FkrzKQaXCXsDnfBO8pC7La9lM4h6A0ZNWFJjneMyE03ZjCloqegUks3y60YjveNWj85bnBlowhRycaQcVktnU2ZLRnS3Xym1sHw3f3i_zVPX_1IN5Q4fx46Z9DTuPPkh7icHlE1Mw_EFPr2TQkefQdwgWYf9kQoSrg_phZPrXWc1oCzCQkqDLb1dqwq3gywQQvMBETqh8ztsgznniciAiboBJY4R-3L9B_Pqty_flkADpvyoLE-lvz8aRkAm9HRKI5gQHIMcGKVweCrqr0h9V6m8MV2UrAZWnXteVe2S3h9icuXfLcmyRtQtWf9h8rBERUq6srkc78fEYZkz-2tQUByZdlRg/file [following]\n",
            "--2022-11-16 13:19:40--  https://ucc62b2194c5a0d2096ebaffdabf.dl.dropboxusercontent.com/cd/0/inline2/Bw3vlHosuXRqk22YvTBCtC6NmBez3SvkSyDp_jP6nJosgAdMw4t7IR727MRszNbsMbKcpjrrlQaOXL9Wu7FkrzKQaXCXsDnfBO8pC7La9lM4h6A0ZNWFJjneMyE03ZjCloqegUks3y60YjveNWj85bnBlowhRycaQcVktnU2ZLRnS3Xym1sHw3f3i_zVPX_1IN5Q4fx46Z9DTuPPkh7icHlE1Mw_EFPr2TQkefQdwgWYf9kQoSrg_phZPrXWc1oCzCQkqDLb1dqwq3gywQQvMBETqh8ztsgznniciAiboBJY4R-3L9B_Pqty_flkADpvyoLE-lvz8aRkAm9HRKI5gQHIMcGKVweCrqr0h9V6m8MV2UrAZWnXteVe2S3h9icuXfLcmyRtQtWf9h8rBERUq6srkc78fEYZkz-2tQUByZdlRg/file\n",
            "Reusing existing connection to ucc62b2194c5a0d2096ebaffdabf.dl.dropboxusercontent.com:443.\n",
            "HTTP request sent, awaiting response... 200 OK\n",
            "Length: 2736928490 (2.5G) [application/zip]\n",
            "Saving to: ‘./data/celeba_hq.zip’\n",
            "\n",
            "./data/celeba_hq.zi 100%[===================>]   2.55G  98.2MB/s    in 30s     \n",
            "\n",
            "2022-11-16 13:20:10 (88.1 MB/s) - ‘./data/celeba_hq.zip’ saved [2736928490/2736928490]\n",
            "\n",
            "Archive:  ./data/celeba_hq.zip\n",
            "replace ./data/celeba_hq/train/male/000016.jpg? [y]es, [n]o, [A]ll, [N]one, [r]ename: ^C\n"
          ]
        }
      ]
    },
    {
      "cell_type": "code",
      "source": [
        "!bash download.sh pretrained-network-celeba-hq"
      ],
      "metadata": {
        "colab": {
          "base_uri": "https://localhost:8080/"
        },
        "id": "HlkFmkArfBw4",
        "outputId": "b7cf4cab-ef05-427a-d1b4-65b32a04d913"
      },
      "execution_count": 18,
      "outputs": [
        {
          "output_type": "stream",
          "name": "stdout",
          "text": [
            "download.sh: line 9: \n",
            "StarGAN v2\n",
            "Copyright (c) 2020-present NAVER Corp.\n",
            "\n",
            "This work is licensed under the Creative Commons Attribution-NonCommercial\n",
            "4.0 International License. To view a copy of this license, visit\n",
            "http://creativecommons.org/licenses/by-nc/4.0/ or send a letter to\n",
            "Creative Commons, PO Box 1866, Mountain View, CA 94042, USA.\n",
            ": No such file or directory\n",
            "WARNING: timestamping does nothing in combination with -O. See the manual\n",
            "for details.\n",
            "\n",
            "--2022-11-16 13:59:21--  https://www.dropbox.com/s/96fmei6c93o8b8t/100000_nets_ema.ckpt?dl=0\n",
            "Resolving www.dropbox.com (www.dropbox.com)... 162.125.5.18, 2620:100:601d:18::a27d:512\n",
            "Connecting to www.dropbox.com (www.dropbox.com)|162.125.5.18|:443... connected.\n",
            "HTTP request sent, awaiting response... 302 Found\n",
            "Location: /s/raw/96fmei6c93o8b8t/100000_nets_ema.ckpt [following]\n",
            "--2022-11-16 13:59:22--  https://www.dropbox.com/s/raw/96fmei6c93o8b8t/100000_nets_ema.ckpt\n",
            "Reusing existing connection to www.dropbox.com:443.\n",
            "HTTP request sent, awaiting response... 302 Found\n",
            "Location: https://uc2b59aa5125e1660af44bd9707c.dl.dropboxusercontent.com/cd/0/inline/Bw3Xo1GRymJ5GiRfoEtEKrtPYNThigAMpgHG-lbElmLU1SzzazbFJEqqKOaKSIgGr0gnpunO7inC9sr9nOP1TR3tPoZ9rcaP_j5Qg7yfGUcITQGxKC3KtPXXHI94ljrmQ14kdbq0VzPEmqQLNf4RHvBI4PXriOiiCDC4hLHlBO_aRw/file# [following]\n",
            "--2022-11-16 13:59:22--  https://uc2b59aa5125e1660af44bd9707c.dl.dropboxusercontent.com/cd/0/inline/Bw3Xo1GRymJ5GiRfoEtEKrtPYNThigAMpgHG-lbElmLU1SzzazbFJEqqKOaKSIgGr0gnpunO7inC9sr9nOP1TR3tPoZ9rcaP_j5Qg7yfGUcITQGxKC3KtPXXHI94ljrmQ14kdbq0VzPEmqQLNf4RHvBI4PXriOiiCDC4hLHlBO_aRw/file\n",
            "Resolving uc2b59aa5125e1660af44bd9707c.dl.dropboxusercontent.com (uc2b59aa5125e1660af44bd9707c.dl.dropboxusercontent.com)... 162.125.5.15, 2620:100:601b:15::a27d:80f\n",
            "Connecting to uc2b59aa5125e1660af44bd9707c.dl.dropboxusercontent.com (uc2b59aa5125e1660af44bd9707c.dl.dropboxusercontent.com)|162.125.5.15|:443... connected.\n",
            "HTTP request sent, awaiting response... 302 Found\n",
            "Location: /cd/0/inline2/Bw2EoN3eSs8UvG5nlwc01zqz04oZ3y0h8VjXT7s2uIaU9dofaEefKcOyZiUrT56pEnCVHrdV9sk2Td0XYPFBOew7xjcCULjwgLTqWMXkCcJg4l434QKXm2AavtDhB1LoiG_28IHGHjG7dgldlf4BUfr2XJNbet_uuNXkzqGzvE-U2TYSRtZATk3yTCWGF_fg2GjctJX7HSiMlyGkmZyA6vBMq1wxnO9Zyn4KGO3Zt2jepO9Mt1SYEYej-hh6elkiiOrQDzyi9-8gc_I0ETqT6qb5PDlyn9KyHkkIegNLncMWIJ_ZiXQmhC86l1-fjIlWDivcVic_WcayNWpJT_PRW5pXrzXC8ogf9TBMXZKPRxdN1tsiCfWZxJnsSujTtSseyj6SYAnfCk9Fr1ovawy4_tuj12pwzCCJIeHWzwCqeERIhg/file [following]\n",
            "--2022-11-16 13:59:23--  https://uc2b59aa5125e1660af44bd9707c.dl.dropboxusercontent.com/cd/0/inline2/Bw2EoN3eSs8UvG5nlwc01zqz04oZ3y0h8VjXT7s2uIaU9dofaEefKcOyZiUrT56pEnCVHrdV9sk2Td0XYPFBOew7xjcCULjwgLTqWMXkCcJg4l434QKXm2AavtDhB1LoiG_28IHGHjG7dgldlf4BUfr2XJNbet_uuNXkzqGzvE-U2TYSRtZATk3yTCWGF_fg2GjctJX7HSiMlyGkmZyA6vBMq1wxnO9Zyn4KGO3Zt2jepO9Mt1SYEYej-hh6elkiiOrQDzyi9-8gc_I0ETqT6qb5PDlyn9KyHkkIegNLncMWIJ_ZiXQmhC86l1-fjIlWDivcVic_WcayNWpJT_PRW5pXrzXC8ogf9TBMXZKPRxdN1tsiCfWZxJnsSujTtSseyj6SYAnfCk9Fr1ovawy4_tuj12pwzCCJIeHWzwCqeERIhg/file\n",
            "Reusing existing connection to uc2b59aa5125e1660af44bd9707c.dl.dropboxusercontent.com:443.\n",
            "HTTP request sent, awaiting response... 200 OK\n",
            "Length: 292781495 (279M) [application/octet-stream]\n",
            "Saving to: ‘./expr/checkpoints/celeba_hq/100000_nets_ema.ckpt’\n",
            "\n",
            "./expr/checkpoints/ 100%[===================>] 279.22M  95.5MB/s    in 2.9s    \n",
            "\n",
            "2022-11-16 13:59:27 (95.5 MB/s) - ‘./expr/checkpoints/celeba_hq/100000_nets_ema.ckpt’ saved [292781495/292781495]\n",
            "\n"
          ]
        }
      ]
    },
    {
      "cell_type": "code",
      "source": [
        "!bash download.sh wing"
      ],
      "metadata": {
        "colab": {
          "base_uri": "https://localhost:8080/"
        },
        "id": "NTItf0TSfBt8",
        "outputId": "c08f12f1-f559-4de8-8a01-7011eca3e541"
      },
      "execution_count": 19,
      "outputs": [
        {
          "output_type": "stream",
          "name": "stdout",
          "text": [
            "download.sh: line 9: \n",
            "StarGAN v2\n",
            "Copyright (c) 2020-present NAVER Corp.\n",
            "\n",
            "This work is licensed under the Creative Commons Attribution-NonCommercial\n",
            "4.0 International License. To view a copy of this license, visit\n",
            "http://creativecommons.org/licenses/by-nc/4.0/ or send a letter to\n",
            "Creative Commons, PO Box 1866, Mountain View, CA 94042, USA.\n",
            ": No such file or directory\n",
            "WARNING: timestamping does nothing in combination with -O. See the manual\n",
            "for details.\n",
            "\n",
            "--2022-11-16 13:59:27--  https://www.dropbox.com/s/tjxpypwpt38926e/wing.ckpt?dl=0\n",
            "Resolving www.dropbox.com (www.dropbox.com)... 162.125.5.18, 2620:100:601d:18::a27d:512\n",
            "Connecting to www.dropbox.com (www.dropbox.com)|162.125.5.18|:443... connected.\n",
            "HTTP request sent, awaiting response... 302 Found\n",
            "Location: /s/raw/tjxpypwpt38926e/wing.ckpt [following]\n",
            "--2022-11-16 13:59:27--  https://www.dropbox.com/s/raw/tjxpypwpt38926e/wing.ckpt\n",
            "Reusing existing connection to www.dropbox.com:443.\n",
            "HTTP request sent, awaiting response... 302 Found\n",
            "Location: https://uc58b27a8089c4ea7b694897c123.dl.dropboxusercontent.com/cd/0/inline/Bw04BQ_rCTC4J5-p-RVTwbDQAjPtBq-U12RbxKc1f_smgltqjq7_WF-d-GbguwOcbUJN8UxMb269J2n-Zl60y2Sft76E8zdyUOTCgUT8p_3DQ4msng3RVCbJGPrZ28YmXJFDB7y2WcPcG7QKScMsfRZXXouHk7purer-Q4fK3B9NIQ/file# [following]\n",
            "--2022-11-16 13:59:28--  https://uc58b27a8089c4ea7b694897c123.dl.dropboxusercontent.com/cd/0/inline/Bw04BQ_rCTC4J5-p-RVTwbDQAjPtBq-U12RbxKc1f_smgltqjq7_WF-d-GbguwOcbUJN8UxMb269J2n-Zl60y2Sft76E8zdyUOTCgUT8p_3DQ4msng3RVCbJGPrZ28YmXJFDB7y2WcPcG7QKScMsfRZXXouHk7purer-Q4fK3B9NIQ/file\n",
            "Resolving uc58b27a8089c4ea7b694897c123.dl.dropboxusercontent.com (uc58b27a8089c4ea7b694897c123.dl.dropboxusercontent.com)... 162.125.5.15, 2620:100:601d:15::a27d:50f\n",
            "Connecting to uc58b27a8089c4ea7b694897c123.dl.dropboxusercontent.com (uc58b27a8089c4ea7b694897c123.dl.dropboxusercontent.com)|162.125.5.15|:443... connected.\n",
            "HTTP request sent, awaiting response... 302 Found\n",
            "Location: /cd/0/inline2/Bw1Z6W_PL9e8bgH0rXOnvVXQ-0WYRvZU1N5TaWvRQGUJUTf2-7GdhSLqgrfiNrYobA6P7KOLcMi19MG4qxh5hdzeAiLKvQ_BJvYY4YR5oDQsoFnEzW-TFFGEQuluDj4leDmiiXy5a5PNT5t7WjZCPhQFH_cNnu0VCbhSUxJdh0yp53d5T7-4gBw8EAyrHxsAooEjRMFvd-zX72E1AgZ2uv66_t4l3gOHpufjzp0xE3_O_5NTp0HaK712UTFZijiZnCkXdSQXnjwrolUHnCvy-bpu4lmFWAqQvQv2m-wjo0jZAvPuJP1mbu7QQ5FO_Ikugm2BI7cDYyUeEuTE1eNrMa9OVXn_mHalZVGEXPoPHCJBrWUASBEtw06w0ZBICYmnuKpd_A5VFAXCQMS1CClPF8D8sLPgT1pdnWXEMADJRL7KvA/file [following]\n",
            "--2022-11-16 13:59:28--  https://uc58b27a8089c4ea7b694897c123.dl.dropboxusercontent.com/cd/0/inline2/Bw1Z6W_PL9e8bgH0rXOnvVXQ-0WYRvZU1N5TaWvRQGUJUTf2-7GdhSLqgrfiNrYobA6P7KOLcMi19MG4qxh5hdzeAiLKvQ_BJvYY4YR5oDQsoFnEzW-TFFGEQuluDj4leDmiiXy5a5PNT5t7WjZCPhQFH_cNnu0VCbhSUxJdh0yp53d5T7-4gBw8EAyrHxsAooEjRMFvd-zX72E1AgZ2uv66_t4l3gOHpufjzp0xE3_O_5NTp0HaK712UTFZijiZnCkXdSQXnjwrolUHnCvy-bpu4lmFWAqQvQv2m-wjo0jZAvPuJP1mbu7QQ5FO_Ikugm2BI7cDYyUeEuTE1eNrMa9OVXn_mHalZVGEXPoPHCJBrWUASBEtw06w0ZBICYmnuKpd_A5VFAXCQMS1CClPF8D8sLPgT1pdnWXEMADJRL7KvA/file\n",
            "Reusing existing connection to uc58b27a8089c4ea7b694897c123.dl.dropboxusercontent.com:443.\n",
            "HTTP request sent, awaiting response... 200 OK\n",
            "Length: 193670248 (185M) [application/octet-stream]\n",
            "Saving to: ‘./expr/checkpoints/wing.ckpt’\n",
            "\n",
            "./expr/checkpoints/ 100%[===================>] 184.70M  76.0MB/s    in 2.4s    \n",
            "\n",
            "2022-11-16 13:59:31 (76.0 MB/s) - ‘./expr/checkpoints/wing.ckpt’ saved [193670248/193670248]\n",
            "\n",
            "WARNING: timestamping does nothing in combination with -O. See the manual\n",
            "for details.\n",
            "\n",
            "--2022-11-16 13:59:31--  https://www.dropbox.com/s/91fth49gyb7xksk/celeba_lm_mean.npz?dl=0\n",
            "Resolving www.dropbox.com (www.dropbox.com)... 162.125.5.18, 2620:100:601d:18::a27d:512\n",
            "Connecting to www.dropbox.com (www.dropbox.com)|162.125.5.18|:443... connected.\n",
            "HTTP request sent, awaiting response... 302 Found\n",
            "Location: /s/raw/91fth49gyb7xksk/celeba_lm_mean.npz [following]\n",
            "--2022-11-16 13:59:32--  https://www.dropbox.com/s/raw/91fth49gyb7xksk/celeba_lm_mean.npz\n",
            "Reusing existing connection to www.dropbox.com:443.\n",
            "HTTP request sent, awaiting response... 302 Found\n",
            "Location: https://ucd4311c140b9d8e144533384939.dl.dropboxusercontent.com/cd/0/inline/Bw1mopBUIg4tnC_5sTZf3ExHDwzN8AOEhoxarCRFhIScPm_zH5zpR7GMvHSppDEHYoaUYSfrP8i37VmhnmJ6tgZyTis5mJcZCoqAPo3azOZaMWu_q7K2ft5PEboTB2cTwnfSXJIyHKvNH08X-akx30Xul9hiI9y2pbByhpsS22wALA/file# [following]\n",
            "--2022-11-16 13:59:32--  https://ucd4311c140b9d8e144533384939.dl.dropboxusercontent.com/cd/0/inline/Bw1mopBUIg4tnC_5sTZf3ExHDwzN8AOEhoxarCRFhIScPm_zH5zpR7GMvHSppDEHYoaUYSfrP8i37VmhnmJ6tgZyTis5mJcZCoqAPo3azOZaMWu_q7K2ft5PEboTB2cTwnfSXJIyHKvNH08X-akx30Xul9hiI9y2pbByhpsS22wALA/file\n",
            "Resolving ucd4311c140b9d8e144533384939.dl.dropboxusercontent.com (ucd4311c140b9d8e144533384939.dl.dropboxusercontent.com)... 162.125.5.15, 2620:100:601d:15::a27d:50f\n",
            "Connecting to ucd4311c140b9d8e144533384939.dl.dropboxusercontent.com (ucd4311c140b9d8e144533384939.dl.dropboxusercontent.com)|162.125.5.15|:443... connected.\n",
            "HTTP request sent, awaiting response... 200 OK\n",
            "Length: 1810 (1.8K) [text/plain]\n",
            "Saving to: ‘./expr/checkpoints/celeba_lm_mean.npz’\n",
            "\n",
            "./expr/checkpoints/ 100%[===================>]   1.77K  --.-KB/s    in 0s      \n",
            "\n",
            "2022-11-16 13:59:32 (48.6 MB/s) - ‘./expr/checkpoints/celeba_lm_mean.npz’ saved [1810/1810]\n",
            "\n"
          ]
        }
      ]
    },
    {
      "cell_type": "code",
      "source": [
        "!bash download.sh afhq-dataset"
      ],
      "metadata": {
        "colab": {
          "base_uri": "https://localhost:8080/"
        },
        "id": "n3Pj4mVyfBra",
        "outputId": "dcc8ef5a-7705-40c2-bf01-c64846a556e0"
      },
      "execution_count": 20,
      "outputs": [
        {
          "output_type": "stream",
          "name": "stdout",
          "text": [
            "download.sh: line 9: \n",
            "StarGAN v2\n",
            "Copyright (c) 2020-present NAVER Corp.\n",
            "\n",
            "This work is licensed under the Creative Commons Attribution-NonCommercial\n",
            "4.0 International License. To view a copy of this license, visit\n",
            "http://creativecommons.org/licenses/by-nc/4.0/ or send a letter to\n",
            "Creative Commons, PO Box 1866, Mountain View, CA 94042, USA.\n",
            ": No such file or directory\n",
            "WARNING: timestamping does nothing in combination with -O. See the manual\n",
            "for details.\n",
            "\n",
            "--2022-11-16 13:59:33--  https://www.dropbox.com/s/t9l9o3vsx2jai3z/afhq.zip?dl=0\n",
            "Resolving www.dropbox.com (www.dropbox.com)... 162.125.5.18, 2620:100:601d:18::a27d:512\n",
            "Connecting to www.dropbox.com (www.dropbox.com)|162.125.5.18|:443... connected.\n",
            "HTTP request sent, awaiting response... 302 Found\n",
            "Location: /s/raw/t9l9o3vsx2jai3z/afhq.zip [following]\n",
            "--2022-11-16 13:59:33--  https://www.dropbox.com/s/raw/t9l9o3vsx2jai3z/afhq.zip\n",
            "Reusing existing connection to www.dropbox.com:443.\n",
            "HTTP request sent, awaiting response... 302 Found\n",
            "Location: https://ucd8d4da5ce3d33e1683a4796401.dl.dropboxusercontent.com/cd/0/inline/Bw0H4XCPVw8YTZ5b9LnaR984NYDWvOlFcTbz3T-pCcPeI4Ji0uNCSAhKSC6LQt-M4B01YZ0RGjSr-YqPofBjclmtpkgXFTeKRx1gJ1_WTJola_OXmVSygDSXRmuFsieNunSMPCvMN4wP8jAOG4v3gfJ87KI6JihUiBpRTyphdnOv3Q/file# [following]\n",
            "--2022-11-16 13:59:33--  https://ucd8d4da5ce3d33e1683a4796401.dl.dropboxusercontent.com/cd/0/inline/Bw0H4XCPVw8YTZ5b9LnaR984NYDWvOlFcTbz3T-pCcPeI4Ji0uNCSAhKSC6LQt-M4B01YZ0RGjSr-YqPofBjclmtpkgXFTeKRx1gJ1_WTJola_OXmVSygDSXRmuFsieNunSMPCvMN4wP8jAOG4v3gfJ87KI6JihUiBpRTyphdnOv3Q/file\n",
            "Resolving ucd8d4da5ce3d33e1683a4796401.dl.dropboxusercontent.com (ucd8d4da5ce3d33e1683a4796401.dl.dropboxusercontent.com)... 162.125.5.15, 2620:100:601d:15::a27d:50f\n",
            "Connecting to ucd8d4da5ce3d33e1683a4796401.dl.dropboxusercontent.com (ucd8d4da5ce3d33e1683a4796401.dl.dropboxusercontent.com)|162.125.5.15|:443... connected.\n",
            "HTTP request sent, awaiting response... 302 Found\n",
            "Location: /cd/0/inline2/Bw0ABmP7ti661jkFMBMWHtVLnTH2g7bRkL22lZlESrco6ibRUzWA14japmInIaFmB5HnFSB6pGxZGMyCA5rLhEfGp-2klmFAUmLWgB8i43HldhNpgWgAzx9tidWkDNYrHRXnnODOIhtwvnWU49dD8wCpxBAle98C8eWbFOSqzLe2v_DR-jD6XpkVSJQWHa5zRxwUg9SheKYQs_UU4Xjhrqq-9NSu7HJyH3uoICEVnktpTqtVCL-Op1AAVL0oUIxgTnwiLdTFfKXwgNiykCvgnLovdYDDJH_riTdwKwadgacrNZi8Hd0_Y7kK2YPEQnmlIXJP5_VMNuuYiEQ0Q9Ramk33wMG6lPiohXJ_nhzOA4Ka_RLLH7jl1y6OlIgo09BrP4bnqokAmVDpIattGk6_KdyFd85hwicaMFDtteBkAavt2A/file [following]\n",
            "--2022-11-16 13:59:34--  https://ucd8d4da5ce3d33e1683a4796401.dl.dropboxusercontent.com/cd/0/inline2/Bw0ABmP7ti661jkFMBMWHtVLnTH2g7bRkL22lZlESrco6ibRUzWA14japmInIaFmB5HnFSB6pGxZGMyCA5rLhEfGp-2klmFAUmLWgB8i43HldhNpgWgAzx9tidWkDNYrHRXnnODOIhtwvnWU49dD8wCpxBAle98C8eWbFOSqzLe2v_DR-jD6XpkVSJQWHa5zRxwUg9SheKYQs_UU4Xjhrqq-9NSu7HJyH3uoICEVnktpTqtVCL-Op1AAVL0oUIxgTnwiLdTFfKXwgNiykCvgnLovdYDDJH_riTdwKwadgacrNZi8Hd0_Y7kK2YPEQnmlIXJP5_VMNuuYiEQ0Q9Ramk33wMG6lPiohXJ_nhzOA4Ka_RLLH7jl1y6OlIgo09BrP4bnqokAmVDpIattGk6_KdyFd85hwicaMFDtteBkAavt2A/file\n",
            "Reusing existing connection to ucd8d4da5ce3d33e1683a4796401.dl.dropboxusercontent.com:443.\n",
            "HTTP request sent, awaiting response... 200 OK\n",
            "Length: 729484677 (696M) [application/zip]\n",
            "Saving to: ‘./data/afhq.zip’\n",
            "\n",
            "./data/afhq.zip     100%[===================>] 695.69M  76.8MB/s    in 9.6s    \n",
            "\n",
            "2022-11-16 13:59:44 (72.8 MB/s) - ‘./data/afhq.zip’ saved [729484677/729484677]\n",
            "\n",
            "Archive:  ./data/afhq.zip\n",
            "replace ./data/afhq/train/cat/flickr_cat_000002.jpg? [y]es, [n]o, [A]ll, [N]one, [r]ename: y\n",
            "  inflating: ./data/afhq/train/cat/flickr_cat_000002.jpg  \n",
            "replace ./data/afhq/train/cat/flickr_cat_000003.jpg? [y]es, [n]o, [A]ll, [N]one, [r]ename: y\n",
            "  inflating: ./data/afhq/train/cat/flickr_cat_000003.jpg  \n",
            "replace ./data/afhq/train/cat/flickr_cat_000004.jpg? [y]es, [n]o, [A]ll, [N]one, [r]ename: y\n",
            "  inflating: ./data/afhq/train/cat/flickr_cat_000004.jpg  \n",
            "replace ./data/afhq/train/cat/flickr_cat_000005.jpg? [y]es, [n]o, [A]ll, [N]one, [r]ename: y\n",
            "  inflating: ./data/afhq/train/cat/flickr_cat_000005.jpg  \n",
            "replace ./data/afhq/train/cat/flickr_cat_000006.jpg? [y]es, [n]o, [A]ll, [N]one, [r]ename: y\n",
            "  inflating: ./data/afhq/train/cat/flickr_cat_000006.jpg  \n",
            "replace ./data/afhq/train/cat/flickr_cat_000007.jpg? [y]es, [n]o, [A]ll, [N]one, [r]ename: y\n",
            "  inflating: ./data/afhq/train/cat/flickr_cat_000007.jpg  \n",
            "replace ./data/afhq/train/cat/flickr_cat_000009.jpg? [y]es, [n]o, [A]ll, [N]one, [r]ename: y\n",
            "  inflating: ./data/afhq/train/cat/flickr_cat_000009.jpg  \n",
            "replace ./data/afhq/train/cat/flickr_cat_000010.jpg? [y]es, [n]o, [A]ll, [N]one, [r]ename: y\n",
            "  inflating: ./data/afhq/train/cat/flickr_cat_000010.jpg  \n",
            "replace ./data/afhq/train/cat/flickr_cat_000012.jpg? [y]es, [n]o, [A]ll, [N]one, [r]ename: y\n",
            "  inflating: ./data/afhq/train/cat/flickr_cat_000012.jpg  \n",
            "replace ./data/afhq/train/cat/flickr_cat_000013.jpg? [y]es, [n]o, [A]ll, [N]one, [r]ename: y\n",
            "  inflating: ./data/afhq/train/cat/flickr_cat_000013.jpg  \n",
            "replace ./data/afhq/train/cat/flickr_cat_000014.jpg? [y]es, [n]o, [A]ll, [N]one, [r]ename: y\n",
            "  inflating: ./data/afhq/train/cat/flickr_cat_000014.jpg  \n",
            "replace ./data/afhq/train/cat/flickr_cat_000015.jpg? [y]es, [n]o, [A]ll, [N]one, [r]ename: y\n",
            "  inflating: ./data/afhq/train/cat/flickr_cat_000015.jpg  \n",
            "replace ./data/afhq/train/cat/flickr_cat_000017.jpg? [y]es, [n]o, [A]ll, [N]one, [r]ename: y\n",
            "  inflating: ./data/afhq/train/cat/flickr_cat_000017.jpg  \n",
            "replace ./data/afhq/train/cat/flickr_cat_000018.jpg? [y]es, [n]o, [A]ll, [N]one, [r]ename: y\n",
            "  inflating: ./data/afhq/train/cat/flickr_cat_000018.jpg  \n",
            "replace ./data/afhq/train/cat/flickr_cat_000019.jpg? [y]es, [n]o, [A]ll, [N]one, [r]ename: y\n",
            "  inflating: ./data/afhq/train/cat/flickr_cat_000019.jpg  \n",
            "replace ./data/afhq/train/cat/flickr_cat_000020.jpg? [y]es, [n]o, [A]ll, [N]one, [r]ename: y\n",
            "  inflating: ./data/afhq/train/cat/flickr_cat_000020.jpg  \n",
            "replace ./data/afhq/train/cat/flickr_cat_000021.jpg? [y]es, [n]o, [A]ll, [N]one, [r]ename: y\n",
            "  inflating: ./data/afhq/train/cat/flickr_cat_000021.jpg  \n",
            "replace ./data/afhq/train/cat/flickr_cat_000022.jpg? [y]es, [n]o, [A]ll, [N]one, [r]ename: y\n",
            "  inflating: ./data/afhq/train/cat/flickr_cat_000022.jpg  \n",
            "replace ./data/afhq/train/cat/flickr_cat_000023.jpg? [y]es, [n]o, [A]ll, [N]one, [r]ename: y\n",
            "  inflating: ./data/afhq/train/cat/flickr_cat_000023.jpg  \n",
            "replace ./data/afhq/train/cat/flickr_cat_000024.jpg? [y]es, [n]o, [A]ll, [N]one, [r]ename: y\n",
            "y\n",
            "  inflating: ./data/afhq/train/cat/flickr_cat_000024.jpg  \n",
            "replace ./data/afhq/train/cat/flickr_cat_000025.jpg? [y]es, [n]o, [A]ll, [N]one, [r]ename:   inflating: ./data/afhq/train/cat/flickr_cat_000025.jpg  \n",
            "replace ./data/afhq/train/cat/flickr_cat_000026.jpg? [y]es, [n]o, [A]ll, [N]one, [r]ename: y\n",
            "  inflating: ./data/afhq/train/cat/flickr_cat_000026.jpg  \n",
            "replace ./data/afhq/train/cat/flickr_cat_000027.jpg? [y]es, [n]o, [A]ll, [N]one, [r]ename: y\n",
            "  inflating: ./data/afhq/train/cat/flickr_cat_000027.jpg  \n",
            "replace ./data/afhq/train/cat/flickr_cat_000028.jpg? [y]es, [n]o, [A]ll, [N]one, [r]ename: y\n",
            "  inflating: ./data/afhq/train/cat/flickr_cat_000028.jpg  \n",
            "replace ./data/afhq/train/cat/flickr_cat_000029.jpg? [y]es, [n]o, [A]ll, [N]one, [r]ename: y\n",
            "  inflating: ./data/afhq/train/cat/flickr_cat_000029.jpg  \n",
            "replace ./data/afhq/train/cat/flickr_cat_000030.jpg? [y]es, [n]o, [A]ll, [N]one, [r]ename: y\n",
            "  inflating: ./data/afhq/train/cat/flickr_cat_000030.jpg  \n",
            "replace ./data/afhq/train/cat/flickr_cat_000031.jpg? [y]es, [n]o, [A]ll, [N]one, [r]ename: y\n",
            "  inflating: ./data/afhq/train/cat/flickr_cat_000031.jpg  \n",
            "replace ./data/afhq/train/cat/flickr_cat_000032.jpg? [y]es, [n]o, [A]ll, [N]one, [r]ename: y\n",
            "  inflating: ./data/afhq/train/cat/flickr_cat_000032.jpg  \n",
            "replace ./data/afhq/train/cat/flickr_cat_000033.jpg? [y]es, [n]o, [A]ll, [N]one, [r]ename: y\n",
            "  inflating: ./data/afhq/train/cat/flickr_cat_000033.jpg  \n",
            "replace ./data/afhq/train/cat/flickr_cat_000034.jpg? [y]es, [n]o, [A]ll, [N]one, [r]ename: y\n",
            "  inflating: ./data/afhq/train/cat/flickr_cat_000034.jpg  \n",
            "replace ./data/afhq/train/cat/flickr_cat_000035.jpg? [y]es, [n]o, [A]ll, [N]one, [r]ename: y\n",
            "  inflating: ./data/afhq/train/cat/flickr_cat_000035.jpg  \n",
            "replace ./data/afhq/train/cat/flickr_cat_000036.jpg? [y]es, [n]o, [A]ll, [N]one, [r]ename: y\n",
            "y\n",
            "  inflating: ./data/afhq/train/cat/flickr_cat_000036.jpg  \n",
            "replace ./data/afhq/train/cat/flickr_cat_000037.jpg? [y]es, [n]o, [A]ll, [N]one, [r]ename:   inflating: ./data/afhq/train/cat/flickr_cat_000037.jpg  \n",
            "replace ./data/afhq/train/cat/flickr_cat_000038.jpg? [y]es, [n]o, [A]ll, [N]one, [r]ename: y\n",
            "  inflating: ./data/afhq/train/cat/flickr_cat_000038.jpg  \n",
            "replace ./data/afhq/train/cat/flickr_cat_000039.jpg? [y]es, [n]o, [A]ll, [N]one, [r]ename: y\n",
            "  inflating: ./data/afhq/train/cat/flickr_cat_000039.jpg  \n",
            "replace ./data/afhq/train/cat/flickr_cat_000040.jpg? [y]es, [n]o, [A]ll, [N]one, [r]ename: y\n",
            "  inflating: ./data/afhq/train/cat/flickr_cat_000040.jpg  \n",
            "replace ./data/afhq/train/cat/flickr_cat_000041.jpg? [y]es, [n]o, [A]ll, [N]one, [r]ename: y\n",
            "  inflating: ./data/afhq/train/cat/flickr_cat_000041.jpg  \n",
            "replace ./data/afhq/train/cat/flickr_cat_000042.jpg? [y]es, [n]o, [A]ll, [N]one, [r]ename: y\n",
            "  inflating: ./data/afhq/train/cat/flickr_cat_000042.jpg  \n",
            "replace ./data/afhq/train/cat/flickr_cat_000043.jpg? [y]es, [n]o, [A]ll, [N]one, [r]ename: y\n",
            "y\n",
            "  inflating: ./data/afhq/train/cat/flickr_cat_000043.jpg  \n",
            "replace ./data/afhq/train/cat/flickr_cat_000044.jpg? [y]es, [n]o, [A]ll, [N]one, [r]ename:   inflating: ./data/afhq/train/cat/flickr_cat_000044.jpg  \n",
            "replace ./data/afhq/train/cat/flickr_cat_000045.jpg? [y]es, [n]o, [A]ll, [N]one, [r]ename: y\n",
            "y\n",
            "  inflating: ./data/afhq/train/cat/flickr_cat_000045.jpg  \n",
            "replace ./data/afhq/train/cat/flickr_cat_000046.jpg? [y]es, [n]o, [A]ll, [N]one, [r]ename:   inflating: ./data/afhq/train/cat/flickr_cat_000046.jpg  \n",
            "replace ./data/afhq/train/cat/flickr_cat_000047.jpg? [y]es, [n]o, [A]ll, [N]one, [r]ename: y\n",
            "y\n",
            "  inflating: ./data/afhq/train/cat/flickr_cat_000047.jpg  \n",
            "replace ./data/afhq/train/cat/flickr_cat_000048.jpg? [y]es, [n]o, [A]ll, [N]one, [r]ename:   inflating: ./data/afhq/train/cat/flickr_cat_000048.jpg  \n",
            "replace ./data/afhq/train/cat/flickr_cat_000049.jpg? [y]es, [n]o, [A]ll, [N]one, [r]ename: y\n",
            "  inflating: ./data/afhq/train/cat/flickr_cat_000049.jpg  \n",
            "replace ./data/afhq/train/cat/flickr_cat_000050.jpg? [y]es, [n]o, [A]ll, [N]one, [r]ename: y\n",
            "  inflating: ./data/afhq/train/cat/flickr_cat_000050.jpg  \n",
            "replace ./data/afhq/train/cat/flickr_cat_000051.jpg? [y]es, [n]o, [A]ll, [N]one, [r]ename: y\n",
            "  inflating: ./data/afhq/train/cat/flickr_cat_000051.jpg  \n",
            "replace ./data/afhq/train/cat/flickr_cat_000052.jpg? [y]es, [n]o, [A]ll, [N]one, [r]ename: y\n",
            "  inflating: ./data/afhq/train/cat/flickr_cat_000052.jpg  \n",
            "replace ./data/afhq/train/cat/flickr_cat_000053.jpg? [y]es, [n]o, [A]ll, [N]one, [r]ename: y\n",
            "  inflating: ./data/afhq/train/cat/flickr_cat_000053.jpg  \n",
            "replace ./data/afhq/train/cat/flickr_cat_000054.jpg? [y]es, [n]o, [A]ll, [N]one, [r]ename: y\n",
            "y\n",
            "  inflating: ./data/afhq/train/cat/flickr_cat_000054.jpg  \n",
            "replace ./data/afhq/train/cat/flickr_cat_000055.jpg? [y]es, [n]o, [A]ll, [N]one, [r]ename:   inflating: ./data/afhq/train/cat/flickr_cat_000055.jpg  \n",
            "replace ./data/afhq/train/cat/flickr_cat_000057.jpg? [y]es, [n]o, [A]ll, [N]one, [r]ename: y\n",
            "  inflating: ./data/afhq/train/cat/flickr_cat_000057.jpg  \n",
            "replace ./data/afhq/train/cat/flickr_cat_000058.jpg? [y]es, [n]o, [A]ll, [N]one, [r]ename: y\n",
            "  inflating: ./data/afhq/train/cat/flickr_cat_000058.jpg  \n",
            "replace ./data/afhq/train/cat/flickr_cat_000059.jpg? [y]es, [n]o, [A]ll, [N]one, [r]ename: y\n",
            "yyy\n",
            "  inflating: ./data/afhq/train/cat/flickr_cat_000059.jpg  \n",
            "replace ./data/afhq/train/cat/flickr_cat_000060.jpg? [y]es, [n]o, [A]ll, [N]one, [r]ename:   inflating: ./data/afhq/train/cat/flickr_cat_000060.jpg  \n",
            "replace ./data/afhq/train/cat/flickr_cat_000061.jpg? [y]es, [n]o, [A]ll, [N]one, [r]ename: y\n",
            "  inflating: ./data/afhq/train/cat/flickr_cat_000061.jpg  \n",
            "replace ./data/afhq/train/cat/flickr_cat_000062.jpg? [y]es, [n]o, [A]ll, [N]one, [r]ename: y\n",
            "  inflating: ./data/afhq/train/cat/flickr_cat_000062.jpg  \n",
            "replace ./data/afhq/train/cat/flickr_cat_000063.jpg? [y]es, [n]o, [A]ll, [N]one, [r]ename: y\n",
            "  inflating: ./data/afhq/train/cat/flickr_cat_000063.jpg  \n",
            "replace ./data/afhq/train/cat/flickr_cat_000064.jpg? [y]es, [n]o, [A]ll, [N]one, [r]ename: y\n",
            "  inflating: ./data/afhq/train/cat/flickr_cat_000064.jpg  \n",
            "replace ./data/afhq/train/cat/flickr_cat_000065.jpg? [y]es, [n]o, [A]ll, [N]one, [r]ename: y\n",
            "  inflating: ./data/afhq/train/cat/flickr_cat_000065.jpg  \n",
            "replace ./data/afhq/train/cat/flickr_cat_000066.jpg? [y]es, [n]o, [A]ll, [N]one, [r]ename: "
          ]
        }
      ]
    },
    {
      "cell_type": "code",
      "source": [
        "!bash download.sh pretrained-network-afhq"
      ],
      "metadata": {
        "colab": {
          "base_uri": "https://localhost:8080/"
        },
        "id": "eGllDSRMgfnX",
        "outputId": "09fd5589-c49b-40d0-93a1-695088f465f1"
      },
      "execution_count": 21,
      "outputs": [
        {
          "output_type": "stream",
          "name": "stdout",
          "text": [
            "download.sh: line 9: \n",
            "StarGAN v2\n",
            "Copyright (c) 2020-present NAVER Corp.\n",
            "\n",
            "This work is licensed under the Creative Commons Attribution-NonCommercial\n",
            "4.0 International License. To view a copy of this license, visit\n",
            "http://creativecommons.org/licenses/by-nc/4.0/ or send a letter to\n",
            "Creative Commons, PO Box 1866, Mountain View, CA 94042, USA.\n",
            ": No such file or directory\n",
            "WARNING: timestamping does nothing in combination with -O. See the manual\n",
            "for details.\n",
            "\n",
            "--2022-11-16 14:04:15--  https://www.dropbox.com/s/etwm810v25h42sn/100000_nets_ema.ckpt?dl=0\n",
            "Resolving www.dropbox.com (www.dropbox.com)... 162.125.5.18, 2620:100:601d:18::a27d:512\n",
            "Connecting to www.dropbox.com (www.dropbox.com)|162.125.5.18|:443... connected.\n",
            "HTTP request sent, awaiting response... 302 Found\n",
            "Location: /s/raw/etwm810v25h42sn/100000_nets_ema.ckpt [following]\n",
            "--2022-11-16 14:04:15--  https://www.dropbox.com/s/raw/etwm810v25h42sn/100000_nets_ema.ckpt\n",
            "Reusing existing connection to www.dropbox.com:443.\n",
            "HTTP request sent, awaiting response... 302 Found\n",
            "Location: https://uc1e85b3408c739f9bfde1d09618.dl.dropboxusercontent.com/cd/0/inline/Bw3ywUZoMcvES-EVAdpo0S4sgzbx4itA4dYLQKoL4y4IqKSHbOUG10OPcdUJB-a4aaA71FaU2aSFH0Uk6oKU0jdw5yoUQzd_TQQxuK32MzRo8Q9Lv-0Ok7slhY8Tj4by1SYrtPUcuYu5VD1EECwfPC8h9Tr9XBkvRTglte58HTyK0g/file# [following]\n",
            "--2022-11-16 14:04:15--  https://uc1e85b3408c739f9bfde1d09618.dl.dropboxusercontent.com/cd/0/inline/Bw3ywUZoMcvES-EVAdpo0S4sgzbx4itA4dYLQKoL4y4IqKSHbOUG10OPcdUJB-a4aaA71FaU2aSFH0Uk6oKU0jdw5yoUQzd_TQQxuK32MzRo8Q9Lv-0Ok7slhY8Tj4by1SYrtPUcuYu5VD1EECwfPC8h9Tr9XBkvRTglte58HTyK0g/file\n",
            "Resolving uc1e85b3408c739f9bfde1d09618.dl.dropboxusercontent.com (uc1e85b3408c739f9bfde1d09618.dl.dropboxusercontent.com)... 162.125.5.15, 2620:100:601d:15::a27d:50f\n",
            "Connecting to uc1e85b3408c739f9bfde1d09618.dl.dropboxusercontent.com (uc1e85b3408c739f9bfde1d09618.dl.dropboxusercontent.com)|162.125.5.15|:443... connected.\n",
            "HTTP request sent, awaiting response... 302 Found\n",
            "Location: /cd/0/inline2/Bw13P7fQNWTf-r5ZHdPrXVciS5jLRYDb3mmn28wT9CwSalW0zhwoUwEXi14jC0v6FabpiRs8Ffbp7Ol3o45Z-AzXFM2c0KzkAhxKGUSUX-CbDidFnhiermPd_ZU5-MwXQZGr8YHCB8hCD3zUZXgW94O0K4HaHMfd3JBK10KQW_7fOMrJDt4DuunL5dAo6LHhA83rwiZK4e3F6WsoxCoGytLqaJyvCU-GdqcA5sZ7k35RtDVyzGHr0654dKTUGY31RO8i6Lmn9zbghFBEWFf_vacZLOWA2OCFohzoy4fUfJkiyECYX_8iq3_4Azn35TQiuHvCLC37CKrArcokol9wGYi_QcBow_OuXE5xG3lFCBIAZ1hpFl4JeS-UR3FY5-434SiL9mX0NIWRDPwkXHzGk9SMkqRKseHXIKvFhg3dDA2x8g/file [following]\n",
            "--2022-11-16 14:04:16--  https://uc1e85b3408c739f9bfde1d09618.dl.dropboxusercontent.com/cd/0/inline2/Bw13P7fQNWTf-r5ZHdPrXVciS5jLRYDb3mmn28wT9CwSalW0zhwoUwEXi14jC0v6FabpiRs8Ffbp7Ol3o45Z-AzXFM2c0KzkAhxKGUSUX-CbDidFnhiermPd_ZU5-MwXQZGr8YHCB8hCD3zUZXgW94O0K4HaHMfd3JBK10KQW_7fOMrJDt4DuunL5dAo6LHhA83rwiZK4e3F6WsoxCoGytLqaJyvCU-GdqcA5sZ7k35RtDVyzGHr0654dKTUGY31RO8i6Lmn9zbghFBEWFf_vacZLOWA2OCFohzoy4fUfJkiyECYX_8iq3_4Azn35TQiuHvCLC37CKrArcokol9wGYi_QcBow_OuXE5xG3lFCBIAZ1hpFl4JeS-UR3FY5-434SiL9mX0NIWRDPwkXHzGk9SMkqRKseHXIKvFhg3dDA2x8g/file\n",
            "Reusing existing connection to uc1e85b3408c739f9bfde1d09618.dl.dropboxusercontent.com:443.\n",
            "HTTP request sent, awaiting response... 200 OK\n",
            "Length: 257897044 (246M) [application/octet-stream]\n",
            "Saving to: ‘./expr/checkpoints/afhq/100000_nets_ema.ckpt’\n",
            "\n",
            "./expr/checkpoints/ 100%[===================>] 245.95M  73.6MB/s    in 3.7s    \n",
            "\n",
            "2022-11-16 14:04:20 (65.8 MB/s) - ‘./expr/checkpoints/afhq/100000_nets_ema.ckpt’ saved [257897044/257897044]\n",
            "\n"
          ]
        }
      ]
    },
    {
      "cell_type": "code",
      "source": [
        "!python /content/stargan-v2/main.py --mode sample --num_domains 2 --resume_iter 100000 --w_hpf 1 \\--checkpoint_dir expr/checkpoints/celeba_hq \\--result_dir expr/results/celeba_hq \\--src_dir assets/representative/celeba_hq/src \\--ref_dir assets/representative/celeba_hq/ref"
      ],
      "metadata": {
        "colab": {
          "base_uri": "https://localhost:8080/"
        },
        "id": "JfboITDJgfio",
        "outputId": "dc6f102c-26f9-42c5-c237-3dccc4f832ad"
      },
      "execution_count": 24,
      "outputs": [
        {
          "output_type": "stream",
          "name": "stdout",
          "text": [
            "Namespace(batch_size=8, beta1=0.0, beta2=0.99, checkpoint_dir='expr/checkpoints/celeba_hq', ds_iter=100000, eval_dir='expr/eval', eval_every=50000, f_lr=1e-06, hidden_dim=512, img_size=256, inp_dir='assets/representative/custom/female', lambda_cyc=1, lambda_ds=1, lambda_reg=1, lambda_sty=1, latent_dim=16, lm_path='expr/checkpoints/celeba_lm_mean.npz', lr=0.0001, mode='sample', num_domains=2, num_outs_per_domain=10, num_workers=4, out_dir='assets/representative/celeba_hq/src/female', print_every=10, randcrop_prob=0.5, ref_dir='assets/representative/celeba_hq/ref', result_dir='expr/results/celeba_hq', resume_iter=100000, sample_dir='expr/samples', sample_every=5000, save_every=10000, seed=777, src_dir='assets/representative/celeba_hq/src', style_dim=64, total_iters=100000, train_img_dir='data/celeba_hq/train', val_batch_size=32, val_img_dir='data/celeba_hq/val', w_hpf=1.0, weight_decay=0.0001, wing_path='expr/checkpoints/wing.ckpt')\n",
            "Number of parameters of generator: 43467395\n",
            "Number of parameters of mapping_network: 2438272\n",
            "Number of parameters of style_encoder: 20916928\n",
            "Number of parameters of discriminator: 20852290\n",
            "Number of parameters of fan: 6333603\n",
            "Initializing generator...\n",
            "Initializing mapping_network...\n",
            "Initializing style_encoder...\n",
            "Initializing discriminator...\n",
            "Preparing DataLoader for the generation phase...\n",
            "Preparing DataLoader for the generation phase...\n",
            "Loading checkpoint from expr/checkpoints/celeba_hq/100000_nets_ema.ckpt...\n",
            "Working on expr/results/celeba_hq/reference.jpg...\n",
            "/usr/local/lib/python3.7/site-packages/torch/nn/functional.py:2506: UserWarning: Default upsampling behavior when mode=bilinear is changed to align_corners=False since 0.4.0. Please specify align_corners=True if the old behavior is desired. See the documentation of nn.Upsample for details.\n",
            "  \"See the documentation of nn.Upsample for details.\".format(mode))\n",
            "Working on expr/results/celeba_hq/video_ref.mp4...\n",
            "video_ref: 100% 5/5 [26:42<00:00, 320.57s/it]\n",
            "tcmalloc: large alloc 1501691904 bytes == 0x55a0dd5f6000 @  0x7f12915ebb6b 0x7f129160b379 0x7f124c8937c5 0x7f124c89578a 0x7f125576fe3b 0x7f1255783a0d 0x7f1255790037 0x7f1255675730 0x7f1255629905 0x7f125562aee9 0x7f12553e207e 0x7f12556e934a 0x7f125562aee9 0x7f12574405b4 0x7f125562aee9 0x7f1282f27c64 0x7f1282e57fe5 0x559fb3def107 0x559fb3df02c0 0x559fb3e66cba 0x559fb3da8253 0x559fb3e63db3 0x559fb3da6ea2 0x559fb3ded370 0x559fb3df00d8 0x559fb3e66cba 0x559fb3da8253 0x559fb3e63db3 0x559fb3da6ea2 0x559fb3ded370 0x559fb3df00d8\n",
            "tcmalloc: large alloc 1501691904 bytes == 0x55a136e16000 @  0x7f12915ebb6b 0x7f129160b379 0x7f124c8937c5 0x7f124c89578a 0x7f1255399bca 0x7f12555e274b 0x7f1255629f77 0x7f12553ba630 0x7f12553bb598 0x7f12553c10e5 0x7f12553c1708 0x7f12550b3a7a 0x7f1255624983 0x7f1255629da0 0x7f125512bfc1 0x7f12576bee68 0x7f1255629da0 0x7f1282cb9b01 0x7f1282be023b 0x7f1282be0a56 0x559fb3dd3424 0x559fb3dd36e3 0x559fb3eaa9c1 0x559fb3eab8f8 0x559fb3dbcfbc 0x559fb3e636fa 0x559fb3ded1d4 0x559fb3df00d8 0x559fb3e6285b 0x559fb3da8253 0x559fb3e63db3\n",
            "tcmalloc: large alloc 1501691904 bytes == 0x55a194c08000 @  0x7f12915ebb6b 0x7f129160b379 0x7f124c8937c5 0x7f124c89578a 0x7f1255399bca 0x7f12555e274b 0x7f1255629f77 0x7f12553ba630 0x7f12553bb598 0x7f12553c10e5 0x7f12553c1708 0x7f12550b30ba 0x7f12556275ce 0x7f1255629bab 0x7f125749d721 0x7f1255629bab 0x7f1282cc1ff0 0x7f1282c6f7c9 0x7f1282c6ffa6 0x559fb3dd3424 0x559fb3dd36e3 0x559fb3eaa9c1 0x559fb3eabadf 0x559fb3db24ba 0x559fb3e62fb1 0x559fb3ded1d4 0x559fb3df00d8 0x559fb3e6285b 0x559fb3da8253 0x559fb3e63db3 0x559fb3da6ea2\n",
            "writing video to expr/results/celeba_hq/video_ref.mp4:   0% 0/134 [00:00<?, ?it/s]ffmpeg version 4.0.2 Copyright (c) 2000-2018 the FFmpeg developers\n",
            "  built with gcc 4.8.2 (GCC) 20140120 (Red Hat 4.8.2-15)\n",
            "  configuration: --prefix=/home/conda/feedstock_root/build_artifacts/ffmpeg_1539667330082/_h_env_placehold_placehold_placehold_placehold_placehold_placehold_placehold_placehold_placehold_placehold_placehold_placehold_placehold_placehold_placehold_placehold_placehold_placehold_plac --disable-doc --disable-openssl --enable-shared --enable-static --extra-cflags='-Wall -g -m64 -pipe -O3 -march=x86-64 -fPIC' --extra-cxxflags='-Wall -g -m64 -pipe -O3 -march=x86-64 -fPIC' --extra-libs='-lpthread -lm -lz' --enable-zlib --enable-pic --enable-pthreads --enable-gpl --enable-version3 --enable-hardcoded-tables --enable-avresample --enable-libfreetype --enable-gnutls --enable-libx264 --enable-libopenh264\n",
            "  libavutil      56. 14.100 / 56. 14.100\n",
            "  libavcodec     58. 18.100 / 58. 18.100\n",
            "  libavformat    58. 12.100 / 58. 12.100\n",
            "  libavdevice    58.  3.100 / 58.  3.100\n",
            "  libavfilter     7. 16.100 /  7. 16.100\n",
            "  libavresample   4.  0.  0 /  4.  0.  0\n",
            "  libswscale      5.  1.100 /  5.  1.100\n",
            "  libswresample   3.  1.100 /  3.  1.100\n",
            "  libpostproc    55.  1.100 / 55.  1.100\n",
            "writing video to expr/results/celeba_hq/video_ref.mp4:   1% 1/134 [00:00<00:33,  4.01it/s]Input #0, rawvideo, from 'pipe:':\n",
            "  Duration: N/A, start: 0.000000, bitrate: 560332 kb/s\n",
            "    Stream #0:0: Video: rawvideo (RGB[24] / 0x18424752), rgb24, 1824x512, 560332 kb/s, 25 tbr, 25 tbn, 25 tbc\n",
            "Stream mapping:\n",
            "  Stream #0:0 (rawvideo) -> setpts\n",
            "  setpts -> Stream #0:0 (libx264)\n",
            "\u001b[1;36m[libx264 @ 0x2017680] \u001b[0musing cpu capabilities: MMX2 SSE2Fast SSSE3 SSE4.2 AVX FMA3 BMI2 AVX2\n",
            "\u001b[1;36m[libx264 @ 0x2017680] \u001b[0mprofile High, level 3.2\n",
            "\u001b[1;36m[libx264 @ 0x2017680] \u001b[0m264 - core 152 - H.264/MPEG-4 AVC codec - Copyleft 2003-2017 - http://www.videolan.org/x264.html - options: cabac=1 ref=3 deblock=1:0:0 analyse=0x3:0x113 me=hex subme=7 psy=1 psy_rd=1.00:0.00 mixed_ref=1 me_range=16 chroma_me=1 trellis=1 8x8dct=1 cqm=0 deadzone=21,11 fast_pskip=1 chroma_qp_offset=-2 threads=3 lookahead_threads=1 sliced_threads=0 nr=0 decimate=1 interlaced=0 bluray_compat=0 constrained_intra=0 bframes=3 b_pyramid=2 b_adapt=1 b_bias=0 direct=1 weightb=1 open_gop=0 weightp=2 keyint=250 keyint_min=25 scenecut=40 intra_refresh=0 rc_lookahead=40 rc=crf mbtree=1 crf=23.0 qcomp=0.60 qpmin=0 qpmax=69 qpstep=4 ip_ratio=1.40 aq=1:1.00\n",
            "Output #0, mp4, to 'expr/results/celeba_hq/video_ref.mp4':\n",
            "  Metadata:\n",
            "    encoder         : Lavf58.12.100\n",
            "    Stream #0:0: Video: h264 (libx264) (avc1 / 0x31637661), yuv420p, 1824x512, q=-1--1, 30 fps, 15360 tbn, 30 tbc\n",
            "    Metadata:\n",
            "      encoder         : Lavc58.18.100 libx264\n",
            "    Side data:\n",
            "      cpb: bitrate max/min/avg: 0/0/0 buffer size: 0 vbv_delay: -1\n",
            "writing video to expr/results/celeba_hq/video_ref.mp4: 100% 134/134 [00:14<00:00,  9.36it/s]\n",
            "frame=  321 fps= 22 q=-1.0 Lsize=     282kB time=00:00:10.60 bitrate= 218.2kbits/s dup=187 drop=0 speed=0.726x    \n",
            "video:278kB audio:0kB subtitle:0kB other streams:0kB global headers:0kB muxing overhead: 1.589700%\n",
            "\u001b[1;36m[libx264 @ 0x2017680] \u001b[0mframe I:2     Avg QP:18.41  size: 40013\n",
            "\u001b[1;36m[libx264 @ 0x2017680] \u001b[0mframe P:99    Avg QP:15.27  size:  1749\n",
            "\u001b[1;36m[libx264 @ 0x2017680] \u001b[0mframe B:220   Avg QP:14.83  size:   140\n",
            "\u001b[1;36m[libx264 @ 0x2017680] \u001b[0mconsecutive B-frames:  0.9% 16.8% 18.7% 63.6%\n",
            "\u001b[1;36m[libx264 @ 0x2017680] \u001b[0mmb I  I16..4:  6.4% 80.5% 13.1%\n",
            "\u001b[1;36m[libx264 @ 0x2017680] \u001b[0mmb P  I16..4:  0.2%  0.3%  0.0%  P16..4:  8.6%  2.2%  1.6%  0.0%  0.0%    skip:87.0%\n",
            "\u001b[1;36m[libx264 @ 0x2017680] \u001b[0mmb B  I16..4:  0.0%  0.0%  0.0%  B16..8:  4.0%  0.0%  0.0%  direct: 0.0%  skip:96.0%  L0:15.7% L1:84.3% BI: 0.0%\n",
            "\u001b[1;36m[libx264 @ 0x2017680] \u001b[0m8x8 transform intra:72.7% inter:80.0%\n",
            "\u001b[1;36m[libx264 @ 0x2017680] \u001b[0mcoded y,uvDC,uvAC intra: 31.8% 28.7% 18.5% inter: 1.1% 1.4% 0.1%\n",
            "\u001b[1;36m[libx264 @ 0x2017680] \u001b[0mi16 v,h,dc,p: 69%  8%  8% 15%\n",
            "\u001b[1;36m[libx264 @ 0x2017680] \u001b[0mi8 v,h,dc,ddl,ddr,vr,hd,vl,hu: 49%  9% 25%  2%  2%  4%  2%  4%  3%\n",
            "\u001b[1;36m[libx264 @ 0x2017680] \u001b[0mi4 v,h,dc,ddl,ddr,vr,hd,vl,hu: 33% 20% 10%  5%  6%  9%  6%  7%  4%\n",
            "\u001b[1;36m[libx264 @ 0x2017680] \u001b[0mi8c dc,h,v,p: 74%  7% 14%  4%\n",
            "\u001b[1;36m[libx264 @ 0x2017680] \u001b[0mWeighted P-Frames: Y:0.0% UV:0.0%\n",
            "\u001b[1;36m[libx264 @ 0x2017680] \u001b[0mref P L0: 76.5% 12.8%  8.7%  2.0%\n",
            "\u001b[1;36m[libx264 @ 0x2017680] \u001b[0mref B L0: 69.6% 27.4%  3.0%\n",
            "\u001b[1;36m[libx264 @ 0x2017680] \u001b[0mref B L1: 99.4%  0.6%\n",
            "\u001b[1;36m[libx264 @ 0x2017680] \u001b[0mkb/s:212.27\n"
          ]
        }
      ]
    },
    {
      "cell_type": "code",
      "source": [
        "!conda create -n stargan-v2 python=3.6.7"
      ],
      "metadata": {
        "colab": {
          "base_uri": "https://localhost:8080/"
        },
        "id": "VXzl1TNQgfe5",
        "outputId": "308ed54c-b592-4d5a-ad82-a1d9401246e5"
      },
      "execution_count": 1,
      "outputs": [
        {
          "output_type": "stream",
          "name": "stdout",
          "text": [
            "Collecting package metadata (current_repodata.json): - \b\b\\ \b\b| \b\b/ \b\b- \b\b\\ \b\b| \b\b/ \b\b- \b\b\\ \b\b| \b\b/ \b\b- \b\b\\ \b\b| \b\b/ \b\b- \b\b\\ \b\b| \b\b/ \b\b- \b\b\\ \b\b| \b\b/ \b\b- \b\b\\ \b\b| \b\b/ \b\b- \b\b\\ \b\b| \b\b/ \b\b- \b\b\\ \b\b| \b\b/ \b\b- \b\b\\ \b\b| \b\b/ \b\b- \b\b\\ \b\b| \b\b/ \b\b- \b\b\\ \b\b| \b\b/ \b\b- \b\b\\ \b\b| \b\b/ \b\b- \b\b\\ \b\b| \b\b/ \b\b- \b\b\\ \b\b| \b\b/ \b\b- \b\b\\ \b\b| \b\b/ \b\b- \b\b\\ \b\b| \b\b/ \b\b- \b\b\\ \b\b| \b\b/ \b\b- \b\b\\ \b\b| \b\b/ \b\b- \b\b\\ \b\b| \b\b/ \b\b- \b\b\\ \b\b| \b\b/ \b\b- \b\b\\ \b\b| \b\b/ \b\b- \b\b\\ \b\b| \b\b/ \b\b- \b\b\\ \b\b| \b\b/ \b\b- \b\b\\ \b\b| \b\b/ \b\b- \b\b\\ \b\b| \b\b/ \b\b- \b\b\\ \b\b| \b\b/ \b\b- \b\b\\ \b\b| \b\b/ \b\b- \b\b\\ \b\b| \b\b/ \b\b- \b\b\\ \b\b| \b\b/ \b\b- \b\b\\ \b\b| \b\b/ \b\b- \b\b\\ \b\b| \b\b/ \b\b- \b\b\\ \b\b| \b\b/ \b\b- \b\b\\ \b\b| \b\b/ \b\b- \b\b\\ \b\b| \b\b/ \b\b- \b\b\\ \b\b| \b\b/ \b\b- \b\b\\ \b\b| \b\b/ \b\bdone\n",
            "Solving environment: \\ \b\bfailed with repodata from current_repodata.json, will retry with next repodata source.\n",
            "Collecting package metadata (repodata.json): / \b\b- \b\b\\ \b\b| \b\b/ \b\b- \b\b\\ \b\b| \b\b/ \b\b- \b\b\\ \b\b| \b\b/ \b\b- \b\b\\ \b\b| \b\b/ \b\b- \b\b\\ \b\b| \b\b/ \b\b- \b\b\\ \b\b| \b\b/ \b\b- \b\b\\ \b\b| \b\b/ \b\b- \b\b\\ \b\b| \b\b/ \b\b- \b\b\\ \b\b| \b\b/ \b\b- \b\b\\ \b\b| \b\b/ \b\b- \b\b\\ \b\b| \b\b/ \b\b- \b\b\\ \b\b| \b\b/ \b\b- \b\b\\ \b\b| \b\b/ \b\b- \b\b\\ \b\b| \b\b/ \b\b- \b\b\\ \b\b| \b\b/ \b\b- \b\b\\ \b\b| \b\b/ \b\b- \b\b\\ \b\b| \b\b/ \b\b- \b\b\\ \b\b| \b\b/ \b\b- \b\b\\ \b\b| \b\b/ \b\b- \b\b\\ \b\b| \b\b/ \b\b- \b\b\\ \b\b| \b\b/ \b\b- \b\b\\ \b\b| \b\b/ \b\b- \b\b\\ \b\b| \b\b/ \b\b- \b\b\\ \b\b| \b\b/ \b\b- \b\b\\ \b\b| \b\b/ \b\b- \b\b\\ \b\b| \b\b/ \b\b- \b\b\\ \b\b| \b\b/ \b\b- \b\b\\ \b\b| \b\b/ \b\b- \b\b\\ \b\b| \b\b/ \b\b- \b\b\\ \b\b| \b\b/ \b\b- \b\b\\ \b\b| \b\b/ \b\b- \b\b\\ \b\b| \b\b/ \b\b- \b\b\\ \b\b| \b\b/ \b\b- \b\b\\ \b\b| \b\b/ \b\b- \b\b\\ \b\b| \b\b/ \b\b- \b\b\\ \b\b| \b\b/ \b\b- \b\b\\ \b\b| \b\b/ \b\b- \b\b\\ \b\b| \b\b/ \b\b- \b\b\\ \b\b| \b\b/ \b\b- \b\b\\ \b\b| \b\b/ \b\b- \b\b\\ \b\b| \b\b/ \b\b- \b\b\\ \b\b| \b\b/ \b\b- \b\b\\ \b\b| \b\b/ \b\b- \b\b\\ \b\b| \b\b/ \b\b- \b\b\\ \b\b| \b\b/ \b\b- \b\b\\ \b\b| \b\b/ \b\b- \b\b\\ \b\b| \b\b/ \b\b- \b\b\\ \b\b| \b\b/ \b\b- \b\b\\ \b\b| \b\b/ \b\b- \b\b\\ \b\b| \b\b/ \b\b- \b\b\\ \b\b| \b\b/ \b\b- \b\b\\ \b\b| \b\b/ \b\b- \b\b\\ \b\b| \b\b/ \b\b- \b\b\\ \b\b| \b\b/ \b\b- \b\b\\ \b\b| \b\b/ \b\b- \b\b\\ \b\b| \b\b/ \b\b- \b\b\\ \b\b| \b\b/ \b\b- \b\b\\ \b\b| \b\b/ \b\b- \b\b\\ \b\b| \b\b/ \b\b- \b\b\\ \b\b| \b\b/ \b\b- \b\b\\ \b\b| \b\b/ \b\b- \b\b\\ \b\b| \b\b/ \b\b- \b\b\\ \b\b| \b\b/ \b\b- \b\b\\ \b\b| \b\b/ \b\b- \b\b\\ \b\b| \b\b/ \b\b- \b\b\\ \b\b| \b\b/ \b\b- \b\b\\ \b\b| \b\b/ \b\b- \b\b\\ \b\b| \b\b/ \b\b- \b\b\\ \b\b| \b\b/ \b\b- \b\b\\ \b\b| \b\b/ \b\b- \b\b\\ \b\b| \b\b/ \b\b- \b\b\\ \b\b| \b\b/ \b\b- \b\b\\ \b\b| \b\b/ \b\b- \b\b\\ \b\b| \b\b/ \b\b- \b\b\\ \b\b| \b\b/ \b\b- \b\b\\ \b\b| \b\b/ \b\b- \b\b\\ \b\b| \b\b/ \b\b- \b\b\\ \b\b| \b\b/ \b\b- \b\b\\ \b\b| \b\b/ \b\b- \b\b\\ \b\b| \b\b/ \b\b- \b\b\\ \b\b| \b\b/ \b\b- \b\b\\ \b\b| \b\b/ \b\b- \b\b\\ \b\b| \b\b/ \b\b- \b\b\\ \b\b| \b\b/ \b\b- \b\b\\ \b\b| \b\b/ \b\b- \b\b\\ \b\b| \b\b/ \b\b- \b\b\\ \b\b| \b\b/ \b\b- \b\b\\ \b\b| \b\b/ \b\b- \b\b\\ \b\b| \b\b/ \b\b- \b\b\\ \b\b| \b\b/ \b\b- \b\b\\ \b\b| \b\b/ \b\b- \b\b\\ \b\b| \b\b/ \b\b- \b\b\\ \b\b| \b\b/ \b\b- \b\b\\ \b\b| \b\b/ \b\b- \b\b\\ \b\b| \b\b/ \b\b- \b\b\\ \b\b| \b\b/ \b\b- \b\b\\ \b\b| \b\b/ \b\b- \b\b\\ \b\b| \b\b/ \b\b- \b\b\\ \b\b| \b\b/ \b\b- \b\b\\ \b\b| \b\b/ \b\b- \b\b\\ \b\b| \b\b/ \b\b- \b\b\\ \b\b| \b\b/ \b\b- \b\b\\ \b\b| \b\b/ \b\b- \b\b\\ \b\b| \b\b/ \b\b- \b\b\\ \b\b| \b\b/ \b\b- \b\b\\ \b\b| \b\b/ \b\b- \b\b\\ \b\b| \b\b/ \b\b- \b\b\\ \b\b| \b\b/ \b\b- \b\b\\ \b\b| \b\b/ \b\b- \b\b\\ \b\b| \b\b/ \b\b- \b\b\\ \b\b| \b\b/ \b\b- \b\b\\ \b\b| \b\b/ \b\b- \b\b\\ \b\b| \b\b/ \b\b- \b\b\\ \b\b| \b\b/ \b\b- \b\b\\ \b\b| \b\b/ \b\b- \b\b\\ \b\b| \b\b/ \b\b- \b\b\\ \b\b| \b\b/ \b\b- \b\b\\ \b\b| \b\b/ \b\b- \b\b\\ \b\b| \b\b/ \b\b- \b\b\\ \b\b| \b\b/ \b\b- \b\b\\ \b\b| \b\b/ \b\b- \b\b\\ \b\b| \b\b/ \b\b- \b\b\\ \b\b| \b\b/ \b\b- \b\b\\ \b\b| \b\b/ \b\b- \b\b\\ \b\b| \b\b/ \b\b- \b\b\\ \b\b| \b\b/ \b\b- \b\b\\ \b\b| \b\b/ \b\b- \b\b\\ \b\b| \b\b/ \b\b- \b\b\\ \b\b| \b\b/ \b\b- \b\b\\ \b\b| \b\b/ \b\b- \b\b\\ \b\b| \b\b/ \b\b- \b\b\\ \b\b| \b\b/ \b\b- \b\b\\ \b\b| \b\b/ \b\b- \b\b\\ \b\b| \b\b/ \b\b- \b\b\\ \b\b| \b\b/ \b\b- \b\b\\ \b\b| \b\b/ \b\b- \b\b\\ \b\b| \b\b/ \b\b- \b\b\\ \b\b| \b\b/ \b\b- \b\b\\ \b\b| \b\b/ \b\b- \b\b\\ \b\b| \b\b/ \b\b- \b\b\\ \b\b| \b\b/ \b\b- \b\b\\ \b\b| \b\b/ \b\b- \b\b\\ \b\b| \b\b/ \b\b- \b\b\\ \b\b| \b\b/ \b\b- \b\b\\ \b\b| \b\b/ \b\b- \b\b\\ \b\b| \b\b/ \b\b- \b\b\\ \b\b| \b\b/ \b\b- \b\b\\ \b\b| \b\b/ \b\b- \b\b\\ \b\b| \b\b/ \b\b- \b\b\\ \b\b| \b\b/ \b\b- \b\b\\ \b\b| \b\b/ \b\bdone\n",
            "Solving environment: \\ \b\b| \b\b/ \b\b- \b\b\\ \b\b| \b\b/ \b\b- \b\b\\ \b\b| \b\b/ \b\b- \b\b\\ \b\b| \b\b/ \b\b- \b\b\\ \b\b| \b\b/ \b\b- \b\b\\ \b\b| \b\b/ \b\b- \b\b\\ \b\b| \b\b/ \b\b- \b\b\\ \b\b| \b\b/ \b\b- \b\b\\ \b\b| \b\b/ \b\b- \b\b\\ \b\b| \b\b/ \b\b- \b\b\\ \b\b| \b\b/ \b\b- \b\b\\ \b\b| \b\b/ \b\b- \b\b\\ \b\b| \b\b/ \b\b- \b\b\\ \b\b| \b\b/ \b\b- \b\b\\ \b\b| \b\b/ \b\b- \b\b\\ \b\b| \b\b/ \b\b- \b\b\\ \b\b| \b\b/ \b\b- \b\bdone\n",
            "\n",
            "\n",
            "==> WARNING: A newer version of conda exists. <==\n",
            "  current version: 4.14.0\n",
            "  latest version: 22.9.0\n",
            "\n",
            "Please update conda by running\n",
            "\n",
            "    $ conda update -n base -c conda-forge conda\n",
            "\n",
            "\n",
            "\n",
            "## Package Plan ##\n",
            "\n",
            "  environment location: /usr/local/envs/stargan-v2\n",
            "\n",
            "  added / updated specs:\n",
            "    - python=3.6.7\n",
            "\n",
            "\n",
            "The following packages will be downloaded:\n",
            "\n",
            "    package                    |            build\n",
            "    ---------------------------|-----------------\n",
            "    ca-certificates-2022.9.24  |       ha878542_0         150 KB  conda-forge\n",
            "    ld_impl_linux-64-2.39      |       hc81fddc_0         759 KB  conda-forge\n",
            "    libffi-3.2.1               |    he1b5a44_1007          47 KB  conda-forge\n",
            "    libgcc-ng-12.2.0           |      h65d4601_19         931 KB  conda-forge\n",
            "    libgomp-12.2.0             |      h65d4601_19         455 KB  conda-forge\n",
            "    libsqlite-3.39.4           |       h753d276_0         803 KB  conda-forge\n",
            "    libstdcxx-ng-12.2.0        |      h46fd767_19         4.3 MB  conda-forge\n",
            "    libzlib-1.2.13             |       h166bdaf_4          64 KB  conda-forge\n",
            "    openssl-1.1.1s             |       h166bdaf_0         2.1 MB  conda-forge\n",
            "    pip-21.3.1                 |     pyhd8ed1ab_0         1.2 MB  conda-forge\n",
            "    python-3.6.7               |h357f687_1008_cpython        34.1 MB  conda-forge\n",
            "    python_abi-3.6             |          2_cp36m           4 KB  conda-forge\n",
            "    setuptools-58.0.4          |   py36h5fab9bb_2         966 KB  conda-forge\n",
            "    sqlite-3.39.4              |       h4ff8645_0         789 KB  conda-forge\n",
            "    zlib-1.2.13                |       h166bdaf_4          92 KB  conda-forge\n",
            "    ------------------------------------------------------------\n",
            "                                           Total:        46.6 MB\n",
            "\n",
            "The following NEW packages will be INSTALLED:\n",
            "\n",
            "  _libgcc_mutex      conda-forge/linux-64::_libgcc_mutex-0.1-conda_forge\n",
            "  _openmp_mutex      conda-forge/linux-64::_openmp_mutex-4.5-2_gnu\n",
            "  ca-certificates    conda-forge/linux-64::ca-certificates-2022.9.24-ha878542_0\n",
            "  ld_impl_linux-64   conda-forge/linux-64::ld_impl_linux-64-2.39-hc81fddc_0\n",
            "  libffi             conda-forge/linux-64::libffi-3.2.1-he1b5a44_1007\n",
            "  libgcc-ng          conda-forge/linux-64::libgcc-ng-12.2.0-h65d4601_19\n",
            "  libgomp            conda-forge/linux-64::libgomp-12.2.0-h65d4601_19\n",
            "  libsqlite          conda-forge/linux-64::libsqlite-3.39.4-h753d276_0\n",
            "  libstdcxx-ng       conda-forge/linux-64::libstdcxx-ng-12.2.0-h46fd767_19\n",
            "  libzlib            conda-forge/linux-64::libzlib-1.2.13-h166bdaf_4\n",
            "  ncurses            conda-forge/linux-64::ncurses-6.3-h27087fc_1\n",
            "  openssl            conda-forge/linux-64::openssl-1.1.1s-h166bdaf_0\n",
            "  pip                conda-forge/noarch::pip-21.3.1-pyhd8ed1ab_0\n",
            "  python             conda-forge/linux-64::python-3.6.7-h357f687_1008_cpython\n",
            "  python_abi         conda-forge/linux-64::python_abi-3.6-2_cp36m\n",
            "  readline           conda-forge/linux-64::readline-8.1.2-h0f457ee_0\n",
            "  setuptools         conda-forge/linux-64::setuptools-58.0.4-py36h5fab9bb_2\n",
            "  sqlite             conda-forge/linux-64::sqlite-3.39.4-h4ff8645_0\n",
            "  tk                 conda-forge/linux-64::tk-8.6.12-h27826a3_0\n",
            "  wheel              conda-forge/noarch::wheel-0.37.1-pyhd8ed1ab_0\n",
            "  xz                 conda-forge/linux-64::xz-5.2.6-h166bdaf_0\n",
            "  zlib               conda-forge/linux-64::zlib-1.2.13-h166bdaf_4\n",
            "\n",
            "\n",
            "\n",
            "Downloading and Extracting Packages\n",
            "ld_impl_linux-64-2.3 | 759 KB    | : 100% 1.0/1 [00:00<00:00,  3.44it/s]\n",
            "zlib-1.2.13          | 92 KB     | : 100% 1.0/1 [00:00<00:00, 18.34it/s]\n",
            "openssl-1.1.1s       | 2.1 MB    | : 100% 1.0/1 [00:00<00:00,  1.79it/s]\n",
            "libstdcxx-ng-12.2.0  | 4.3 MB    | : 100% 1.0/1 [00:00<00:00,  1.08it/s]\n",
            "libzlib-1.2.13       | 64 KB     | : 100% 1.0/1 [00:00<00:00, 21.95it/s]\n",
            "libgcc-ng-12.2.0     | 931 KB    | : 100% 1.0/1 [00:00<00:00,  4.88it/s]\n",
            "libgomp-12.2.0       | 455 KB    | : 100% 1.0/1 [00:00<00:00,  8.47it/s]\n",
            "libsqlite-3.39.4     | 803 KB    | : 100% 1.0/1 [00:00<00:00,  5.38it/s]\n",
            "ca-certificates-2022 | 150 KB    | : 100% 1.0/1 [00:00<00:00, 15.05it/s]\n",
            "libffi-3.2.1         | 47 KB     | : 100% 1.0/1 [00:00<00:00, 18.00it/s]\n",
            "pip-21.3.1           | 1.2 MB    | : 100% 1.0/1 [00:00<00:00,  1.81it/s]\n",
            "python_abi-3.6       | 4 KB      | : 100% 1.0/1 [00:00<00:00, 22.54it/s]\n",
            "sqlite-3.39.4        | 789 KB    | : 100% 1.0/1 [00:00<00:00,  4.27it/s]\n",
            "setuptools-58.0.4    | 966 KB    | : 100% 1.0/1 [00:00<00:00,  2.61it/s]\n",
            "python-3.6.7         | 34.1 MB   | : 100% 1.0/1 [00:06<00:00,  6.47s/it]               \n",
            "Preparing transaction: | \b\b/ \b\b- \b\b\\ \b\bdone\n",
            "Verifying transaction: / \b\b- \b\b\\ \b\b| \b\b/ \b\b- \b\b\\ \b\b| \b\b/ \b\b- \b\b\\ \b\b| \b\b/ \b\b- \b\b\\ \b\b| \b\b/ \b\b- \b\b\\ \b\b| \b\bdone\n",
            "Executing transaction: - \b\b\\ \b\b| \b\b/ \b\b- \b\b\\ \b\b| \b\b/ \b\b- \b\b\\ \b\b| \b\b/ \b\b- \b\b\\ \b\b| \b\b/ \b\b- \b\b\\ \b\b| \b\b/ \b\b- \b\b\\ \b\b| \b\b/ \b\b- \b\b\\ \b\b| \b\b/ \b\b- \b\b\\ \b\b| \b\b/ \b\b- \b\bdone\n",
            "#\n",
            "# To activate this environment, use\n",
            "#\n",
            "#     $ conda activate stargan-v2\n",
            "#\n",
            "# To deactivate an active environment, use\n",
            "#\n",
            "#     $ conda deactivate\n",
            "\n",
            "Retrieving notices: ...working... done\n"
          ]
        }
      ]
    },
    {
      "cell_type": "code",
      "source": [
        "!conda activate stargan-v2\n"
      ],
      "metadata": {
        "colab": {
          "base_uri": "https://localhost:8080/"
        },
        "id": "ptLzvvUVkJmu",
        "outputId": "1fc62c29-0263-49db-a773-6a0b27e68af4"
      },
      "execution_count": 5,
      "outputs": [
        {
          "output_type": "stream",
          "name": "stdout",
          "text": [
            "\n",
            "CommandNotFoundError: Your shell has not been properly configured to use 'conda activate'.\n",
            "To initialize your shell, run\n",
            "\n",
            "    $ conda init <SHELL_NAME>\n",
            "\n",
            "Currently supported shells are:\n",
            "  - bash\n",
            "  - fish\n",
            "  - tcsh\n",
            "  - xonsh\n",
            "  - zsh\n",
            "  - powershell\n",
            "\n",
            "See 'conda init --help' for more information and options.\n",
            "\n",
            "IMPORTANT: You may need to close and restart your shell after running 'conda init'.\n",
            "\n",
            "\n"
          ]
        }
      ]
    },
    {
      "cell_type": "code",
      "source": [
        "!conda install -y pytorch=1.4.0 torchvision=0.5.0 cudatoolkit=10.0 -c pytorch"
      ],
      "metadata": {
        "colab": {
          "base_uri": "https://localhost:8080/"
        },
        "id": "Lbv3L6SOkO3o",
        "outputId": "f36fd895-1d39-4984-930d-5968e4003a4d"
      },
      "execution_count": 6,
      "outputs": [
        {
          "output_type": "stream",
          "name": "stdout",
          "text": [
            "Collecting package metadata (current_repodata.json): - \b\b\\ \b\b| \b\b/ \b\b- \b\b\\ \b\b| \b\b/ \b\b- \b\b\\ \b\b| \b\b/ \b\b- \b\b\\ \b\b| \b\b/ \b\b- \b\b\\ \b\b| \b\b/ \b\b- \b\b\\ \b\b| \b\b/ \b\b- \b\b\\ \b\b| \b\bdone\n",
            "Solving environment: - \b\bfailed with initial frozen solve. Retrying with flexible solve.\n",
            "Collecting package metadata (repodata.json): | \b\b/ \b\b- \b\b\\ \b\b| \b\b/ \b\b- \b\b\\ \b\b| \b\b/ \b\b- \b\b\\ \b\b| \b\b/ \b\b- \b\b\\ \b\b| \b\b/ \b\b- \b\b\\ \b\b| \b\b/ \b\b- \b\b\\ \b\b| \b\b/ \b\b- \b\b\\ \b\b| \b\b/ \b\b- \b\b\\ \b\b| \b\b/ \b\b- \b\b\\ \b\b| \b\b/ \b\b- \b\b\\ \b\b| \b\b/ \b\b- \b\b\\ \b\b| \b\b/ \b\b- \b\b\\ \b\b| \b\b/ \b\b- \b\b\\ \b\b| \b\b/ \b\b- \b\b\\ \b\b| \b\b/ \b\b- \b\b\\ \b\b| \b\b/ \b\b- \b\b\\ \b\b| \b\b/ \b\b- \b\b\\ \b\b| \b\b/ \b\b- \b\b\\ \b\b| \b\b/ \b\b- \b\b\\ \b\b| \b\b/ \b\b- \b\b\\ \b\bdone\n",
            "Solving environment: / \b\b- \b\b\\ \b\b| \b\b/ \b\b- \b\b\\ \b\b| \b\b/ \b\b- \b\b\\ \b\b| \b\b/ \b\b- \b\b\\ \b\b| \b\b/ \b\b- \b\b\\ \b\b| \b\b/ \b\b- \b\b\\ \b\b| \b\b/ \b\b- \b\b\\ \b\b| \b\b/ \b\b- \b\b\\ \b\b| \b\b/ \b\b- \b\b\\ \b\b| \b\b/ \b\b- \b\b\\ \b\b| \b\b/ \b\b- \b\b\\ \b\b| \b\b/ \b\b- \b\b\\ \b\b| \b\b/ \b\b- \b\b\\ \b\b| \b\b/ \b\b- \b\b\\ \b\b| \b\b/ \b\b- \b\b\\ \b\b| \b\b/ \b\b- \b\b\\ \b\b| \b\b/ \b\b- \b\b\\ \b\b| \b\b/ \b\b- \b\b\\ \b\b| \b\b/ \b\b- \b\b\\ \b\b| \b\b/ \b\b- \b\b\\ \b\b| \b\b/ \b\b- \b\b\\ \b\b| \b\b/ \b\b- \b\b\\ \b\b| \b\b/ \b\b- \b\b\\ \b\b| \b\b/ \b\b- \b\b\\ \b\b| \b\b/ \b\b- \b\b\\ \b\b| \b\b/ \b\b- \b\b\\ \b\b| \b\b/ \b\b- \b\b\\ \b\b| \b\b/ \b\b- \b\b\\ \b\b| \b\b/ \b\b- \b\b\\ \b\b| \b\b/ \b\b- \b\b\\ \b\b| \b\b/ \b\b- \b\b\\ \b\b| \b\b/ \b\b- \b\b\\ \b\b| \b\b/ \b\b- \b\b\\ \b\b| \b\b/ \b\b- \b\b\\ \b\b| \b\b/ \b\b- \b\b\\ \b\b| \b\b/ \b\b- \b\b\\ \b\b| \b\b/ \b\b- \b\b\\ \b\b| \b\b/ \b\b- \b\b\\ \b\b| \b\b/ \b\b- \b\b\\ \b\b| \b\b/ \b\b- \b\b\\ \b\b| \b\b/ \b\b- \b\b\\ \b\b| \b\b/ \b\b- \b\b\\ \b\b| \b\b/ \b\b- \b\b\\ \b\b| \b\b/ \b\b- \b\b\\ \b\b| \b\b/ \b\b- \b\b\\ \b\b| \b\b/ \b\b- \b\b\\ \b\b| \b\b/ \b\b- \b\b\\ \b\b| \b\b/ \b\b- \b\b\\ \b\b| \b\b/ \b\b- \b\b\\ \b\b| \b\b/ \b\b- \b\b\\ \b\b| \b\b/ \b\b- \b\b\\ \b\b| \b\b/ \b\b- \b\b\\ \b\b| \b\b/ \b\b- \b\b\\ \b\b| \b\b/ \b\b- \b\b\\ \b\b| \b\b/ \b\b- \b\b\\ \b\b| \b\b/ \b\b- \b\b\\ \b\b| \b\b/ \b\b- \b\b\\ \b\b| \b\b/ \b\b- \b\b\\ \b\b| \b\b/ \b\b- \b\b\\ \b\b| \b\b/ \b\b- \b\b\\ \b\b| \b\b/ \b\b- \b\b\\ \b\b| \b\b/ \b\b- \b\b\\ \b\b| \b\b/ \b\b- \b\b\\ \b\b| \b\b/ \b\b- \b\b\\ \b\b| \b\b/ \b\b- \b\b\\ \b\b| \b\b/ \b\b- \b\b\\ \b\b| \b\b/ \b\b- \b\b\\ \b\b| \b\b/ \b\b- \b\b\\ \b\b| \b\b/ \b\b- \b\b\\ \b\b| \b\b/ \b\b- \b\b\\ \b\b| \b\b/ \b\b- \b\b\\ \b\b| \b\b/ \b\b- \b\b\\ \b\b| \b\b/ \b\b- \b\b\\ \b\b| \b\b/ \b\b- WARNING conda.core.solve:_add_specs(649): pinned spec cudatoolkit=11.2 conflicts with explicit specs.  Overriding pinned spec.\n",
            "\b\b\\ \b\b| \b\b/ \b\b- \b\b\\ \b\b| \b\b/ \b\b- \b\b\\ \b\b| \b\b/ \b\b- \b\b\\ \b\b| \b\b/ \b\b- \b\b\\ \b\b| \b\b/ \b\b- \b\b\\ \b\b| \b\b/ \b\b- \b\b\\ \b\b| \b\b/ \b\b- \b\b\\ \b\b| \b\b/ \b\b- \b\b\\ \b\b| \b\b/ \b\b- \b\b\\ \b\b| \b\b/ \b\b- \b\b\\ \b\b| \b\b/ \b\b- \b\b\\ \b\b| \b\b/ \b\b- \b\b\\ \b\b| \b\b/ \b\b- \b\b\\ \b\b| \b\b/ \b\b- \b\b\\ \b\b| \b\b/ \b\b- \b\b\\ \b\b| \b\b/ \b\b- \b\b\\ \b\b| \b\b/ \b\b- \b\b\\ \b\b| \b\b/ \b\b- \b\b\\ \b\b| \b\b/ \b\b- \b\b\\ \b\bdone\n",
            "\n",
            "\n",
            "==> WARNING: A newer version of conda exists. <==\n",
            "  current version: 4.14.0\n",
            "  latest version: 22.9.0\n",
            "\n",
            "Please update conda by running\n",
            "\n",
            "    $ conda update -n base -c conda-forge conda\n",
            "\n",
            "\n",
            "\n",
            "## Package Plan ##\n",
            "\n",
            "  environment location: /usr/local\n",
            "\n",
            "  added / updated specs:\n",
            "    - cudatoolkit=10.0\n",
            "    - pytorch=1.4.0\n",
            "    - torchvision=0.5.0\n",
            "\n",
            "\n",
            "The following packages will be downloaded:\n",
            "\n",
            "    package                    |            build\n",
            "    ---------------------------|-----------------\n",
            "    _openmp_mutex-4.5          |       2_kmp_llvm           6 KB  conda-forge\n",
            "    certifi-2022.9.24          |     pyhd8ed1ab_0         155 KB  conda-forge\n",
            "    cudatoolkit-10.0.130       |      h8c5a6a4_10       336.3 MB  conda-forge\n",
            "    freetype-2.12.1            |       hca18f0e_0         884 KB  conda-forge\n",
            "    jpeg-9e                    |       h166bdaf_2         269 KB  conda-forge\n",
            "    lcms2-2.14                 |       h6ed2654_0         256 KB  conda-forge\n",
            "    lerc-4.0.0                 |       h27087fc_0         275 KB  conda-forge\n",
            "    libblas-3.9.0              |16_linux64_openblas          13 KB  conda-forge\n",
            "    libcblas-3.9.0             |16_linux64_openblas          13 KB  conda-forge\n",
            "    libdeflate-1.14            |       h166bdaf_0          81 KB  conda-forge\n",
            "    libgfortran-ng-12.2.0      |      h69a702a_19          22 KB  conda-forge\n",
            "    libgfortran5-12.2.0        |      h337968e_19         1.8 MB  conda-forge\n",
            "    liblapack-3.9.0            |16_linux64_openblas          13 KB  conda-forge\n",
            "    libopenblas-0.3.21         |pthreads_h78a6416_3        10.1 MB  conda-forge\n",
            "    libpng-1.6.38              |       h753d276_0         371 KB  conda-forge\n",
            "    libtiff-4.4.0              |       h55922b4_4         651 KB  conda-forge\n",
            "    libwebp-base-1.2.4         |       h166bdaf_0         404 KB  conda-forge\n",
            "    libxcb-1.13                |    h7f98852_1004         391 KB  conda-forge\n",
            "    llvm-openmp-14.0.4         |       he0ac6c6_0         5.8 MB  conda-forge\n",
            "    mkl-2022.1.0               |     h84fe81f_915       199.6 MB  conda-forge\n",
            "    ninja-1.11.0               |       h924138e_0         2.8 MB  conda-forge\n",
            "    numpy-1.21.6               |   py37h976b520_0         6.1 MB  conda-forge\n",
            "    openjpeg-2.5.0             |       h7d73246_1         533 KB  conda-forge\n",
            "    pillow-9.2.0               |   py37h850a105_2        45.0 MB  conda-forge\n",
            "    pthread-stubs-0.4          |    h36c2ea0_1001           5 KB  conda-forge\n",
            "    pytorch-1.4.0              |py3.7_cuda10.0.130_cudnn7.6.3_0       422.7 MB  pytorch\n",
            "    tbb-2021.6.0               |       h924138e_1         2.0 MB  conda-forge\n",
            "    torchvision-0.5.0          |       py37_cu100         9.1 MB  pytorch\n",
            "    xorg-libxau-1.0.9          |       h7f98852_0          13 KB  conda-forge\n",
            "    xorg-libxdmcp-1.1.3        |       h7f98852_0          19 KB  conda-forge\n",
            "    ------------------------------------------------------------\n",
            "                                           Total:        1.02 GB\n",
            "\n",
            "The following NEW packages will be INSTALLED:\n",
            "\n",
            "  cudatoolkit        conda-forge/linux-64::cudatoolkit-10.0.130-h8c5a6a4_10\n",
            "  freetype           conda-forge/linux-64::freetype-2.12.1-hca18f0e_0\n",
            "  jpeg               conda-forge/linux-64::jpeg-9e-h166bdaf_2\n",
            "  lcms2              conda-forge/linux-64::lcms2-2.14-h6ed2654_0\n",
            "  lerc               conda-forge/linux-64::lerc-4.0.0-h27087fc_0\n",
            "  libblas            conda-forge/linux-64::libblas-3.9.0-16_linux64_openblas\n",
            "  libcblas           conda-forge/linux-64::libcblas-3.9.0-16_linux64_openblas\n",
            "  libdeflate         conda-forge/linux-64::libdeflate-1.14-h166bdaf_0\n",
            "  libgfortran-ng     conda-forge/linux-64::libgfortran-ng-12.2.0-h69a702a_19\n",
            "  libgfortran5       conda-forge/linux-64::libgfortran5-12.2.0-h337968e_19\n",
            "  liblapack          conda-forge/linux-64::liblapack-3.9.0-16_linux64_openblas\n",
            "  libopenblas        conda-forge/linux-64::libopenblas-0.3.21-pthreads_h78a6416_3\n",
            "  libpng             conda-forge/linux-64::libpng-1.6.38-h753d276_0\n",
            "  libtiff            conda-forge/linux-64::libtiff-4.4.0-h55922b4_4\n",
            "  libwebp-base       conda-forge/linux-64::libwebp-base-1.2.4-h166bdaf_0\n",
            "  libxcb             conda-forge/linux-64::libxcb-1.13-h7f98852_1004\n",
            "  llvm-openmp        conda-forge/linux-64::llvm-openmp-14.0.4-he0ac6c6_0\n",
            "  mkl                conda-forge/linux-64::mkl-2022.1.0-h84fe81f_915\n",
            "  ninja              conda-forge/linux-64::ninja-1.11.0-h924138e_0\n",
            "  numpy              conda-forge/linux-64::numpy-1.21.6-py37h976b520_0\n",
            "  openjpeg           conda-forge/linux-64::openjpeg-2.5.0-h7d73246_1\n",
            "  pillow             conda-forge/linux-64::pillow-9.2.0-py37h850a105_2\n",
            "  pthread-stubs      conda-forge/linux-64::pthread-stubs-0.4-h36c2ea0_1001\n",
            "  pytorch            pytorch/linux-64::pytorch-1.4.0-py3.7_cuda10.0.130_cudnn7.6.3_0\n",
            "  tbb                conda-forge/linux-64::tbb-2021.6.0-h924138e_1\n",
            "  torchvision        pytorch/linux-64::torchvision-0.5.0-py37_cu100\n",
            "  xorg-libxau        conda-forge/linux-64::xorg-libxau-1.0.9-h7f98852_0\n",
            "  xorg-libxdmcp      conda-forge/linux-64::xorg-libxdmcp-1.1.3-h7f98852_0\n",
            "\n",
            "The following packages will be UPDATED:\n",
            "\n",
            "  ca-certificates                      2022.6.15-ha878542_0 --> 2022.9.24-ha878542_0\n",
            "  certifi            conda-forge/linux-64::certifi-2022.6.~ --> conda-forge/noarch::certifi-2022.9.24-pyhd8ed1ab_0\n",
            "  openssl                                 1.1.1q-h166bdaf_0 --> 1.1.1s-h166bdaf_0\n",
            "\n",
            "The following packages will be DOWNGRADED:\n",
            "\n",
            "  _openmp_mutex                                   4.5-2_gnu --> 4.5-2_kmp_llvm\n",
            "\n",
            "\n",
            "\n",
            "Downloading and Extracting Packages\n",
            "mkl-2022.1.0         | 199.6 MB  | : 100% 1.0/1 [00:48<00:00, 48.05s/it]               \n",
            "libpng-1.6.38        | 371 KB    | : 100% 1.0/1 [00:00<00:00,  7.06it/s]\n",
            "libtiff-4.4.0        | 651 KB    | : 100% 1.0/1 [00:00<00:00,  5.23it/s]\n",
            "lcms2-2.14           | 256 KB    | : 100% 1.0/1 [00:00<00:00, 10.99it/s]\n",
            "lerc-4.0.0           | 275 KB    | : 100% 1.0/1 [00:00<00:00,  9.61it/s]\n",
            "libopenblas-0.3.21   | 10.1 MB   | : 100% 1.0/1 [00:02<00:00,  2.34s/it]               \n",
            "jpeg-9e              | 269 KB    | : 100% 1.0/1 [00:00<00:00,  8.75it/s]\n",
            "_openmp_mutex-4.5    | 6 KB      | : 100% 1.0/1 [00:00<00:00, 28.70it/s]\n",
            "certifi-2022.9.24    | 155 KB    | : 100% 1.0/1 [00:00<00:00, 16.66it/s]\n",
            "libdeflate-1.14      | 81 KB     | : 100% 1.0/1 [00:00<00:00, 20.02it/s]\n",
            "cudatoolkit-10.0.130 | 336.3 MB  | : 100% 1.0/1 [00:56<00:00, 56.58s/it]               \n",
            "torchvision-0.5.0    | 9.1 MB    | : 100% 1.0/1 [00:02<00:00,  2.00s/it]\n",
            "xorg-libxdmcp-1.1.3  | 19 KB     | : 100% 1.0/1 [00:00<00:00, 16.74it/s]\n",
            "libcblas-3.9.0       | 13 KB     | : 100% 1.0/1 [00:00<00:00, 22.57it/s]\n",
            "openjpeg-2.5.0       | 533 KB    | : 100% 1.0/1 [00:00<00:00,  5.36it/s]\n",
            "libgfortran-ng-12.2. | 22 KB     | : 100% 1.0/1 [00:00<00:00, 21.18it/s]\n",
            "pthread-stubs-0.4    | 5 KB      | : 100% 1.0/1 [00:00<00:00, 23.46it/s]\n",
            "libgfortran5-12.2.0  | 1.8 MB    | : 100% 1.0/1 [00:00<00:00,  2.25it/s]\n",
            "liblapack-3.9.0      | 13 KB     | : 100% 1.0/1 [00:00<00:00, 15.24it/s]\n",
            "libxcb-1.13          | 391 KB    | : 100% 1.0/1 [00:00<00:00,  5.37it/s]\n",
            "freetype-2.12.1      | 884 KB    | : 100% 1.0/1 [00:00<00:00,  4.17it/s]\n",
            "pillow-9.2.0         | 45.0 MB   | : 100% 1.0/1 [00:06<00:00,  6.97s/it]               \n",
            "tbb-2021.6.0         | 2.0 MB    | : 100% 1.0/1 [00:00<00:00,  2.50it/s]\n",
            "numpy-1.21.6         | 6.1 MB    | : 100% 1.0/1 [00:01<00:00,  1.76s/it]               \n",
            "libblas-3.9.0        | 13 KB     | : 100% 1.0/1 [00:00<00:00, 25.03it/s]\n",
            "xorg-libxau-1.0.9    | 13 KB     | : 100% 1.0/1 [00:00<00:00, 25.88it/s]\n",
            "pytorch-1.4.0        | 422.7 MB  | : 100% 1.0/1 [01:19<00:00, 79.45s/it]               \n",
            "libwebp-base-1.2.4   | 404 KB    | : 100% 1.0/1 [00:00<00:00,  7.18it/s]\n",
            "llvm-openmp-14.0.4   | 5.8 MB    | : 100% 1.0/1 [00:01<00:00,  1.15s/it]\n",
            "ninja-1.11.0         | 2.8 MB    | : 100% 1.0/1 [00:00<00:00,  1.66it/s]\n",
            "Preparing transaction: / \b\b- \b\b\\ \b\bdone\n",
            "Verifying transaction: / \b\b- \b\b\\ \b\b| \b\b/ \b\b- \b\b\\ \b\b| \b\b/ \b\bdone\n",
            "Executing transaction: \\ \b\b| \b\b/ \b\b- \b\b\\ \b\b| \b\b/ \b\b- \b\b\\ \b\b| \b\b/ \b\b- \b\b\\ \b\b| \b\b/ \b\b- \b\b\\ \b\b| \b\b/ \b\b- \b\b\\ \b\b| \b\b/ \b\b- \b\b\\ \b\b| \b\b/ \b\b- \b\b\\ \b\b| \b\b/ \b\b- \b\b\\ \b\b| \b\b/ \b\b- \b\b\\ \b\b| \b\b/ \b\b- \b\b\\ \b\b| \b\b/ \b\b- \b\b\\ \b\b| \b\b/ \b\b- By downloading and using the CUDA Toolkit conda packages, you accept the terms and conditions of the CUDA End User License Agreement (EULA): https://docs.nvidia.com/cuda/eula/index.html\n",
            "\n",
            "\b\b\\ \b\b| \b\b/ \b\b- \b\b\\ \b\b| \b\b/ \b\b- \b\b\\ \b\b| \b\b/ \b\b- \b\b\\ \b\b| \b\b/ \b\bdone\n",
            "Retrieving notices: ...working... done\n"
          ]
        }
      ]
    },
    {
      "cell_type": "code",
      "source": [
        "!pip install -q condacolab\n",
        "import condacolab\n",
        "condacolab.install()"
      ],
      "metadata": {
        "colab": {
          "base_uri": "https://localhost:8080/"
        },
        "id": "9BMMMwGyjOcz",
        "outputId": "62e2850c-8c9c-496c-83e6-757d482d1aa7"
      },
      "execution_count": 32,
      "outputs": [
        {
          "output_type": "stream",
          "name": "stdout",
          "text": [
            "⏬ Downloading https://github.com/jaimergp/miniforge/releases/latest/download/Mambaforge-colab-Linux-x86_64.sh...\n",
            "📦 Installing...\n",
            "📌 Adjusting configuration...\n",
            "🩹 Patching environment...\n",
            "⏲ Done in 0:00:27\n",
            "🔁 Restarting kernel...\n"
          ]
        }
      ]
    },
    {
      "cell_type": "code",
      "source": [
        "!conda install x264=='1!152.20180717' ffmpeg=4.0.2 -c conda-forge"
      ],
      "metadata": {
        "colab": {
          "base_uri": "https://localhost:8080/"
        },
        "id": "t3F7fRtKiw8x",
        "outputId": "2070418d-60ae-4c69-d915-b4f9b4a09d80"
      },
      "execution_count": 7,
      "outputs": [
        {
          "output_type": "stream",
          "name": "stdout",
          "text": [
            "Collecting package metadata (current_repodata.json): - \b\b\\ \b\b| \b\b/ \b\b- \b\b\\ \b\b| \b\b/ \b\b- \b\b\\ \b\b| \b\b/ \b\b- \b\b\\ \b\b| \b\b/ \b\b- \b\b\\ \b\b| \b\b/ \b\b- \b\b\\ \b\b| \b\b/ \b\b- \b\b\\ \b\b| \b\b/ \b\b- \b\b\\ \b\bdone\n",
            "Solving environment: / \b\bfailed with initial frozen solve. Retrying with flexible solve.\n",
            "Collecting package metadata (repodata.json): \\ \b\b| \b\b/ \b\b- \b\b\\ \b\b| \b\b/ \b\b- \b\b\\ \b\b| \b\b/ \b\b- \b\b\\ \b\b| \b\b/ \b\b- \b\b\\ \b\b| \b\b/ \b\b- \b\b\\ \b\b| \b\b/ \b\b- \b\b\\ \b\b| \b\b/ \b\b- \b\b\\ \b\b| \b\b/ \b\b- \b\b\\ \b\b| \b\b/ \b\b- \b\b\\ \b\b| \b\b/ \b\b- \b\b\\ \b\b| \b\b/ \b\b- \b\b\\ \b\b| \b\b/ \b\b- \b\b\\ \b\b| \b\b/ \b\b- \b\b\\ \b\b| \b\b/ \b\b- \b\b\\ \b\b| \b\b/ \b\b- \b\b\\ \b\b| \b\b/ \b\b- \b\b\\ \b\b| \b\b/ \b\b- \b\b\\ \b\b| \b\b/ \b\b- \b\b\\ \b\b| \b\b/ \b\b- \b\b\\ \b\b| \b\b/ \b\b- \b\b\\ \b\b| \b\b/ \b\b- \b\b\\ \b\bdone\n",
            "Solving environment: / \b\b- \b\b\\ \b\b| \b\b/ \b\b- \b\b\\ \b\b| \b\b/ \b\b- \b\b\\ \b\b| \b\b/ \b\b- \b\b\\ \b\b| \b\b/ \b\b- \b\b\\ \b\b| \b\b/ \b\b- \b\b\\ \b\b| \b\b/ \b\b- \b\b\\ \b\b| \b\b/ \b\b- \b\b\\ \b\b| \b\b/ \b\b- \b\b\\ \b\b| \b\b/ \b\b- \b\b\\ \b\b| \b\b/ \b\b- \b\b\\ \b\b| \b\b/ \b\b- \b\b\\ \b\b| \b\b/ \b\b- \b\b\\ \b\b| \b\b/ \b\b- \b\b\\ \b\b| \b\b/ \b\b- \b\b\\ \b\b| \b\bdone\n",
            "\n",
            "\n",
            "==> WARNING: A newer version of conda exists. <==\n",
            "  current version: 4.14.0\n",
            "  latest version: 22.9.0\n",
            "\n",
            "Please update conda by running\n",
            "\n",
            "    $ conda update -n base -c conda-forge conda\n",
            "\n",
            "\n",
            "\n",
            "## Package Plan ##\n",
            "\n",
            "  environment location: /usr/local\n",
            "\n",
            "  added / updated specs:\n",
            "    - ffmpeg=4.0.2\n",
            "    - x264==1!152.20180717\n",
            "\n",
            "\n",
            "The following packages will be downloaded:\n",
            "\n",
            "    package                    |            build\n",
            "    ---------------------------|-----------------\n",
            "    ffmpeg-4.0.2               |       ha0c5888_2        62.1 MB  conda-forge\n",
            "    gmp-6.1.2                  |    hf484d3e_1000         751 KB  conda-forge\n",
            "    gnutls-3.5.19              |       h2a4e5f8_1         1.9 MB  conda-forge\n",
            "    nettle-3.3                 |                0         3.1 MB  conda-forge\n",
            "    openh264-1.8.0             |    hdbcaa40_1000         1.4 MB  conda-forge\n",
            "    x264-1!152.20180717        |    h14c3975_1001         5.3 MB  conda-forge\n",
            "    zlib-1.2.12                |       h166bdaf_2          91 KB  conda-forge\n",
            "    ------------------------------------------------------------\n",
            "                                           Total:        74.6 MB\n",
            "\n",
            "The following NEW packages will be INSTALLED:\n",
            "\n",
            "  ffmpeg             conda-forge/linux-64::ffmpeg-4.0.2-ha0c5888_2\n",
            "  gmp                conda-forge/linux-64::gmp-6.1.2-hf484d3e_1000\n",
            "  gnutls             conda-forge/linux-64::gnutls-3.5.19-h2a4e5f8_1\n",
            "  nettle             conda-forge/linux-64::nettle-3.3-0\n",
            "  openh264           conda-forge/linux-64::openh264-1.8.0-hdbcaa40_1000\n",
            "  x264               conda-forge/linux-64::x264-1!152.20180717-h14c3975_1001\n",
            "  zlib               conda-forge/linux-64::zlib-1.2.12-h166bdaf_2\n",
            "\n",
            "\n",
            "\n",
            "Downloading and Extracting Packages\n",
            "openh264-1.8.0       | 1.4 MB    | : 100% 1.0/1 [00:00<00:00,  2.21it/s]\n",
            "nettle-3.3           | 3.1 MB    | : 100% 1.0/1 [00:01<00:00,  1.20s/it]\n",
            "zlib-1.2.12          | 91 KB     | : 100% 1.0/1 [00:00<00:00, 18.40it/s]\n",
            "gnutls-3.5.19        | 1.9 MB    | : 100% 1.0/1 [00:00<00:00,  1.52it/s]               \n",
            "gmp-6.1.2            | 751 KB    | : 100% 1.0/1 [00:00<00:00,  4.47it/s]\n",
            "ffmpeg-4.0.2         | 62.1 MB   | : 100% 1.0/1 [00:15<00:00, 15.06s/it]               \n",
            "x264-1!152.20180717  | 5.3 MB    | : 100% 1.0/1 [00:01<00:00,  1.47s/it]\n",
            "Preparing transaction: - \b\bdone\n",
            "Verifying transaction: | \b\b/ \b\b- \b\b\\ \b\b| \b\b/ \b\b- \b\b\\ \b\b| \b\b/ \b\b- \b\b\\ \b\b| \b\b/ \b\b- \b\b\\ \b\b| \b\b/ \b\b- \b\b\\ \b\b| \b\b/ \b\b- \b\b\\ \b\b| \b\b/ \b\b- \b\b\\ \b\b| \b\b/ \b\b- \b\b\\ \b\b| \b\b/ \b\b- \b\b\\ \b\b| \b\bdone\n",
            "Executing transaction: - \b\b\\ \b\bdone\n",
            "Retrieving notices: ...working... done\n"
          ]
        }
      ]
    },
    {
      "cell_type": "code",
      "source": [],
      "metadata": {
        "id": "76ro_44Qlqgh"
      },
      "execution_count": null,
      "outputs": []
    },
    {
      "cell_type": "code",
      "source": [],
      "metadata": {
        "id": "k2dCiCFKlqeH"
      },
      "execution_count": null,
      "outputs": []
    },
    {
      "cell_type": "code",
      "source": [],
      "metadata": {
        "id": "CXXjwR02lqaE"
      },
      "execution_count": null,
      "outputs": []
    }
  ]
}